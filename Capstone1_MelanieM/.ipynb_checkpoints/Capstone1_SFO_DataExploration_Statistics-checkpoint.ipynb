{
 "cells": [
  {
   "cell_type": "code",
   "execution_count": 1,
   "metadata": {},
   "outputs": [],
   "source": [
    "import pandas as pd\n",
    "import numpy as np\n",
    "import matplotlib.pyplot as plt\n",
    "import scipy.stats as stats\n",
    "%matplotlib inline\n",
    "import itertools\n",
    "import seaborn as sns"
   ]
  },
  {
   "cell_type": "code",
   "execution_count": 2,
   "metadata": {},
   "outputs": [],
   "source": [
    "sfo_data = pd.read_csv('2017_SFO_Customer_Survey.csv')"
   ]
  },
  {
   "cell_type": "code",
   "execution_count": 3,
   "metadata": {},
   "outputs": [
    {
     "data": {
      "text/html": [
       "<div>\n",
       "<style scoped>\n",
       "    .dataframe tbody tr th:only-of-type {\n",
       "        vertical-align: middle;\n",
       "    }\n",
       "\n",
       "    .dataframe tbody tr th {\n",
       "        vertical-align: top;\n",
       "    }\n",
       "\n",
       "    .dataframe thead th {\n",
       "        text-align: right;\n",
       "    }\n",
       "</style>\n",
       "<table border=\"1\" class=\"dataframe\">\n",
       "  <thead>\n",
       "    <tr style=\"text-align: right;\">\n",
       "      <th></th>\n",
       "      <th>RESPNUM</th>\n",
       "      <th>CCGID</th>\n",
       "      <th>RUNID</th>\n",
       "      <th>INTDATE</th>\n",
       "      <th>DAY</th>\n",
       "      <th>GATE</th>\n",
       "      <th>BAREA</th>\n",
       "      <th>STRATA</th>\n",
       "      <th>PEAK</th>\n",
       "      <th>METHOD</th>\n",
       "      <th>...</th>\n",
       "      <th>Q21INCOME</th>\n",
       "      <th>Q22FLY</th>\n",
       "      <th>Q23SJC</th>\n",
       "      <th>Q23OAK</th>\n",
       "      <th>LANG</th>\n",
       "      <th>WEIGHT</th>\n",
       "      <th>Hi</th>\n",
       "      <th>HOWLONG</th>\n",
       "      <th>Q17CITY</th>\n",
       "      <th>Q17STATE</th>\n",
       "    </tr>\n",
       "  </thead>\n",
       "  <tbody>\n",
       "    <tr>\n",
       "      <th>0</th>\n",
       "      <td>1</td>\n",
       "      <td>522</td>\n",
       "      <td>233</td>\n",
       "      <td>13</td>\n",
       "      <td>SAT</td>\n",
       "      <td>92</td>\n",
       "      <td>G</td>\n",
       "      <td>1</td>\n",
       "      <td>3</td>\n",
       "      <td>1</td>\n",
       "      <td>...</td>\n",
       "      <td>3</td>\n",
       "      <td>1</td>\n",
       "      <td>2</td>\n",
       "      <td>2</td>\n",
       "      <td>1</td>\n",
       "      <td>0.284718</td>\n",
       "      <td>NaN</td>\n",
       "      <td>210.0</td>\n",
       "      <td>MONTREAL</td>\n",
       "      <td>QC</td>\n",
       "    </tr>\n",
       "    <tr>\n",
       "      <th>1</th>\n",
       "      <td>2</td>\n",
       "      <td>504</td>\n",
       "      <td>237</td>\n",
       "      <td>13</td>\n",
       "      <td>SAT</td>\n",
       "      <td>75</td>\n",
       "      <td>F</td>\n",
       "      <td>2</td>\n",
       "      <td>3</td>\n",
       "      <td>1</td>\n",
       "      <td>...</td>\n",
       "      <td>1</td>\n",
       "      <td>2</td>\n",
       "      <td>2</td>\n",
       "      <td>2</td>\n",
       "      <td>1</td>\n",
       "      <td>0.944082</td>\n",
       "      <td>NaN</td>\n",
       "      <td>235.0</td>\n",
       "      <td>BERKELEY</td>\n",
       "      <td>CA</td>\n",
       "    </tr>\n",
       "    <tr>\n",
       "      <th>2</th>\n",
       "      <td>3</td>\n",
       "      <td>523</td>\n",
       "      <td>233</td>\n",
       "      <td>13</td>\n",
       "      <td>SAT</td>\n",
       "      <td>92</td>\n",
       "      <td>G</td>\n",
       "      <td>1</td>\n",
       "      <td>3</td>\n",
       "      <td>1</td>\n",
       "      <td>...</td>\n",
       "      <td>3</td>\n",
       "      <td>2</td>\n",
       "      <td>2</td>\n",
       "      <td>1</td>\n",
       "      <td>1</td>\n",
       "      <td>0.284718</td>\n",
       "      <td>NaN</td>\n",
       "      <td>60.0</td>\n",
       "      <td>RENO</td>\n",
       "      <td>NV</td>\n",
       "    </tr>\n",
       "    <tr>\n",
       "      <th>3</th>\n",
       "      <td>4</td>\n",
       "      <td>505</td>\n",
       "      <td>237</td>\n",
       "      <td>13</td>\n",
       "      <td>SAT</td>\n",
       "      <td>75</td>\n",
       "      <td>F</td>\n",
       "      <td>2</td>\n",
       "      <td>3</td>\n",
       "      <td>1</td>\n",
       "      <td>...</td>\n",
       "      <td>2</td>\n",
       "      <td>2</td>\n",
       "      <td>1</td>\n",
       "      <td>1</td>\n",
       "      <td>1</td>\n",
       "      <td>0.944082</td>\n",
       "      <td>NaN</td>\n",
       "      <td>175.0</td>\n",
       "      <td>SAN FRANCISCO</td>\n",
       "      <td>CA</td>\n",
       "    </tr>\n",
       "    <tr>\n",
       "      <th>4</th>\n",
       "      <td>5</td>\n",
       "      <td>524</td>\n",
       "      <td>233</td>\n",
       "      <td>13</td>\n",
       "      <td>SAT</td>\n",
       "      <td>92</td>\n",
       "      <td>G</td>\n",
       "      <td>1</td>\n",
       "      <td>3</td>\n",
       "      <td>1</td>\n",
       "      <td>...</td>\n",
       "      <td>4</td>\n",
       "      <td>1</td>\n",
       "      <td>2</td>\n",
       "      <td>2</td>\n",
       "      <td>1</td>\n",
       "      <td>0.284718</td>\n",
       "      <td>NaN</td>\n",
       "      <td>150.0</td>\n",
       "      <td>MONTREAL</td>\n",
       "      <td>QC</td>\n",
       "    </tr>\n",
       "  </tbody>\n",
       "</table>\n",
       "<p>5 rows × 97 columns</p>\n",
       "</div>"
      ],
      "text/plain": [
       "   RESPNUM  CCGID  RUNID  INTDATE  DAY  GATE BAREA  STRATA  PEAK  METHOD  ...  \\\n",
       "0        1    522    233       13  SAT    92     G       1     3       1  ...   \n",
       "1        2    504    237       13  SAT    75     F       2     3       1  ...   \n",
       "2        3    523    233       13  SAT    92     G       1     3       1  ...   \n",
       "3        4    505    237       13  SAT    75     F       2     3       1  ...   \n",
       "4        5    524    233       13  SAT    92     G       1     3       1  ...   \n",
       "\n",
       "   Q21INCOME Q22FLY Q23SJC  Q23OAK  LANG    WEIGHT  Hi  HOWLONG  \\\n",
       "0          3      1      2       2     1  0.284718 NaN    210.0   \n",
       "1          1      2      2       2     1  0.944082 NaN    235.0   \n",
       "2          3      2      2       1     1  0.284718 NaN     60.0   \n",
       "3          2      2      1       1     1  0.944082 NaN    175.0   \n",
       "4          4      1      2       2     1  0.284718 NaN    150.0   \n",
       "\n",
       "         Q17CITY Q17STATE  \n",
       "0       MONTREAL       QC  \n",
       "1       BERKELEY       CA  \n",
       "2           RENO       NV  \n",
       "3  SAN FRANCISCO       CA  \n",
       "4       MONTREAL       QC  \n",
       "\n",
       "[5 rows x 97 columns]"
      ]
     },
     "execution_count": 3,
     "metadata": {},
     "output_type": "execute_result"
    }
   ],
   "source": [
    "sfo_data.head()"
   ]
  },
  {
   "cell_type": "code",
   "execution_count": 4,
   "metadata": {},
   "outputs": [
    {
     "data": {
      "text/plain": [
       "Index(['RESPNUM', 'CCGID', 'RUNID', 'INTDATE', 'DAY', 'GATE', 'BAREA',\n",
       "       'STRATA', 'PEAK', 'METHOD', 'SAQ', 'AIRLINE', 'DESTINATION', 'FLIGHT',\n",
       "       'AIRLINE_CODE', 'DEST_CODE', 'DESTGEO', 'DESTMARK', 'ARRTIME',\n",
       "       'DEPTIME', 'Q2PURP1', 'Q2PURP2', 'Q2PURP3', 'Q3GETTO1', 'Q3GETTO2',\n",
       "       'Q3GETTO3', 'Q3PARK', 'Q4BAGS', 'Q4STORE', 'Q4FOOD', 'Q4WIFI',\n",
       "       'Q5TIMESFLOWN', 'Q5FIRSTTIME', 'Q6LONGUSE', 'Q7ART', 'Q7FOOD',\n",
       "       'Q7STORE', 'Q7SIGN', 'Q7WALKWAYS', 'Q7SCREENS', 'Q7INFODOWN',\n",
       "       'Q7INFOUP', 'Q7WIFI', 'Q7ROADS', 'Q7PARK', 'Q7AIRTRAIN', 'Q7LTPARKING',\n",
       "       'Q7RENTAL', 'Q7ALL', 'Q8COM1', 'Q8COM2', 'Q8COM3', 'Q8COM4', 'Q8COM5',\n",
       "       'Q9BOARDING', 'Q9AIRTRAIN', 'Q9RENTAL', 'Q9FOOD', 'Q9RESTROOM', 'Q9ALL',\n",
       "       'Q9COM1', 'Q9COM2', 'Q9COM3', 'Q10SAFE', 'Q10COM1', 'Q10COM2',\n",
       "       'Q10COM3', 'Q11TSAPRE', 'Q12PRECHEKCRATE', 'Q12COM1', 'Q12COM2',\n",
       "       'Q12COM3', 'Q13COUNTY', 'Q13GETRATE', 'Q14FIND', 'Q14PASSTHRU',\n",
       "       'Q15PROBLEM', 'Q15COM1', 'Q15COM2', 'Q15COM3', 'NETPRO', 'Q16LIVE',\n",
       "       'Q17ZIP', 'Q17COUNTRY', 'HOME', 'Q19AGE', 'Q20GENDER', 'Q21INCOME',\n",
       "       'Q22FLY', 'Q23SJC', 'Q23OAK', 'LANG', 'WEIGHT', 'Hi', 'HOWLONG',\n",
       "       'Q17CITY', 'Q17STATE'],\n",
       "      dtype='object')"
      ]
     },
     "execution_count": 4,
     "metadata": {},
     "output_type": "execute_result"
    }
   ],
   "source": [
    "sfo_data.columns"
   ]
  },
  {
   "cell_type": "markdown",
   "metadata": {},
   "source": [
    "First I will rename some of the columns and some of the values in the columns from the data dictionary so that they are self-explanatory."
   ]
  },
  {
   "cell_type": "code",
   "execution_count": 5,
   "metadata": {},
   "outputs": [],
   "source": [
    "sfo_data['STRATA'] = sfo_data['STRATA'].map({1:'AM', 2: 'MID', 3:'PM'})"
   ]
  },
  {
   "cell_type": "code",
   "execution_count": 6,
   "metadata": {},
   "outputs": [],
   "source": [
    "sfo_data.rename(columns={'STRATA': 'FLIGHTTIMEOFDAY'}, inplace=True)"
   ]
  },
  {
   "cell_type": "code",
   "execution_count": 7,
   "metadata": {},
   "outputs": [
    {
     "data": {
      "text/plain": [
       "Index(['RESPNUM', 'CCGID', 'RUNID', 'INTDATE', 'DAY', 'GATE', 'BAREA',\n",
       "       'FLIGHTTIMEOFDAY', 'PEAK', 'METHOD', 'SAQ', 'AIRLINE', 'DESTINATION',\n",
       "       'FLIGHT', 'AIRLINE_CODE', 'DEST_CODE', 'DESTGEO', 'DESTMARK', 'ARRTIME',\n",
       "       'DEPTIME', 'Q2PURP1', 'Q2PURP2', 'Q2PURP3', 'Q3GETTO1', 'Q3GETTO2',\n",
       "       'Q3GETTO3', 'Q3PARK', 'Q4BAGS', 'Q4STORE', 'Q4FOOD', 'Q4WIFI',\n",
       "       'Q5TIMESFLOWN', 'Q5FIRSTTIME', 'Q6LONGUSE', 'Q7ART', 'Q7FOOD',\n",
       "       'Q7STORE', 'Q7SIGN', 'Q7WALKWAYS', 'Q7SCREENS', 'Q7INFODOWN',\n",
       "       'Q7INFOUP', 'Q7WIFI', 'Q7ROADS', 'Q7PARK', 'Q7AIRTRAIN', 'Q7LTPARKING',\n",
       "       'Q7RENTAL', 'Q7ALL', 'Q8COM1', 'Q8COM2', 'Q8COM3', 'Q8COM4', 'Q8COM5',\n",
       "       'Q9BOARDING', 'Q9AIRTRAIN', 'Q9RENTAL', 'Q9FOOD', 'Q9RESTROOM', 'Q9ALL',\n",
       "       'Q9COM1', 'Q9COM2', 'Q9COM3', 'Q10SAFE', 'Q10COM1', 'Q10COM2',\n",
       "       'Q10COM3', 'Q11TSAPRE', 'Q12PRECHEKCRATE', 'Q12COM1', 'Q12COM2',\n",
       "       'Q12COM3', 'Q13COUNTY', 'Q13GETRATE', 'Q14FIND', 'Q14PASSTHRU',\n",
       "       'Q15PROBLEM', 'Q15COM1', 'Q15COM2', 'Q15COM3', 'NETPRO', 'Q16LIVE',\n",
       "       'Q17ZIP', 'Q17COUNTRY', 'HOME', 'Q19AGE', 'Q20GENDER', 'Q21INCOME',\n",
       "       'Q22FLY', 'Q23SJC', 'Q23OAK', 'LANG', 'WEIGHT', 'Hi', 'HOWLONG',\n",
       "       'Q17CITY', 'Q17STATE'],\n",
       "      dtype='object')"
      ]
     },
     "execution_count": 7,
     "metadata": {},
     "output_type": "execute_result"
    }
   ],
   "source": [
    "sfo_data.columns"
   ]
  },
  {
   "cell_type": "code",
   "execution_count": 8,
   "metadata": {},
   "outputs": [],
   "source": [
    "sfo_data = sfo_data.rename(columns={'Q2PURP1':'Purpose', 'Q3GETTO1':'Transportation', 'Q4BAGS':'Bags', \n",
    "                        'Q4STORE':'Store', 'Q4FOOD':'Food', 'Q4WIFI':'WiFi', 'Q5TIMESFLOWN':'Times Flown',\n",
    "                        'Q11TSAPRE':'TSA Pre-Check', 'Q19AGE':'Age', 'Q20GENDER':'Gender', 'Q21INCOME':'Income'})"
   ]
  },
  {
   "cell_type": "code",
   "execution_count": 9,
   "metadata": {},
   "outputs": [
    {
     "data": {
      "text/plain": [
       "1.632960    634\n",
       "0.723116    608\n",
       "0.944082    227\n",
       "0.377900    218\n",
       "1.038033    213\n",
       "1.477878    177\n",
       "0.284718    175\n",
       "1.304578    171\n",
       "1.115649    169\n",
       "0.493740    168\n",
       "0.454555     71\n",
       "Name: WEIGHT, dtype: int64"
      ]
     },
     "execution_count": 9,
     "metadata": {},
     "output_type": "execute_result"
    }
   ],
   "source": [
    "sfo_data['WEIGHT'].value_counts()"
   ]
  },
  {
   "cell_type": "code",
   "execution_count": 10,
   "metadata": {},
   "outputs": [],
   "source": [
    "sfo_data['METHOD'] = sfo_data['METHOD'].map({1:'At gate', 2:'Mail in', 3:'Online'})"
   ]
  },
  {
   "cell_type": "code",
   "execution_count": 11,
   "metadata": {},
   "outputs": [],
   "source": [
    "sfo_data['Purpose'] = sfo_data['Purpose'].map({1:'Business', 2:'Pleasure', 3:'Visit others', 4:'School', \\\n",
    "                                              5:'Conference', 6:'Life event', 7:'Other', \\\n",
    "                                               10:'Escorting/personal errands/medical', 11:'Military', \\\n",
    "                                              12:'Volunteer/political/religious', 13:'Moving/immigration', \\\n",
    "                                              0:'Blank/non-response'})"
   ]
  },
  {
   "cell_type": "code",
   "execution_count": 12,
   "metadata": {},
   "outputs": [
    {
     "data": {
      "text/plain": [
       "Pleasure                              1175\n",
       "Business                               725\n",
       "Visit others                           602\n",
       "Life event                             107\n",
       "Blank/non-response                      71\n",
       "School                                  61\n",
       "Conference                              57\n",
       "Escorting/personal errands/medical      13\n",
       "Other                                    9\n",
       "Moving/immigration                       8\n",
       "Volunteer/political/religious            3\n",
       "Name: Purpose, dtype: int64"
      ]
     },
     "execution_count": 12,
     "metadata": {},
     "output_type": "execute_result"
    }
   ],
   "source": [
    "sfo_data['Purpose'].value_counts() #What is the purpose of your trip (unweighted)?"
   ]
  },
  {
   "cell_type": "code",
   "execution_count": 13,
   "metadata": {},
   "outputs": [],
   "source": [
    "#function to create weighted value_counts dictionaries from regular dictionaries\n",
    "def weighted_dict(column_name,df):\n",
    "    dict_unweighted = dict(df[column_name].value_counts()) #create value counts dictionary of that column name\n",
    "    new_dict_weighted = {}\n",
    "    \n",
    "    for key in dict_unweighted.keys():\n",
    "        new_dict_weighted[key] = 0 #create new dictionary and initialize count at 0\n",
    "    \n",
    "    for i,row in df.iterrows(): #loop over rows in dataframe\n",
    "        if row[column_name] in new_dict_weighted.keys(): #access that key in dictionary\n",
    "            new_dict_weighted[row[column_name]] += row['WEIGHT'] #add weight to new_dict\n",
    "    \n",
    "    return new_dict_weighted"
   ]
  },
  {
   "cell_type": "code",
   "execution_count": 14,
   "metadata": {},
   "outputs": [
    {
     "data": {
      "text/plain": [
       "{'Pleasure': 1102.767399467197,\n",
       " 'Business': 807.981784098995,\n",
       " 'Visit others': 605.0679956938977,\n",
       " 'Life event': 106.75048061889997,\n",
       " 'Blank/non-response': 64.476779398,\n",
       " 'School': 61.053482458599994,\n",
       " 'Conference': 54.67898045420001,\n",
       " 'Escorting/personal errands/medical': 9.727361188800002,\n",
       " 'Other': 7.6204938286,\n",
       " 'Moving/immigration': 8.705895914700001,\n",
       " 'Volunteer/political/religious': 2.169346875}"
      ]
     },
     "execution_count": 14,
     "metadata": {},
     "output_type": "execute_result"
    }
   ],
   "source": [
    "weighted_dict_purpose = weighted_dict('Purpose',sfo_data)\n",
    "weighted_dict_purpose\n",
    "#weighted dictionary of purpose, reduces number of pleasure travelers and increases number of business travelers"
   ]
  },
  {
   "cell_type": "code",
   "execution_count": 15,
   "metadata": {},
   "outputs": [
    {
     "data": {
      "text/plain": [
       "{'Pleasure': 1102.767399467197,\n",
       " 'Business': 807.981784098995,\n",
       " 'Visit others': 605.0679956938977,\n",
       " 'Life event': 106.75048061889997,\n",
       " 'Blank/non-response': 64.476779398,\n",
       " 'Other': 143.9555607199}"
      ]
     },
     "execution_count": 15,
     "metadata": {},
     "output_type": "execute_result"
    }
   ],
   "source": [
    "combined_purpose_dict = {'Pleasure':weighted_dict_purpose['Pleasure'], 'Business':weighted_dict_purpose['Business'], \n",
    "                         'Visit others':weighted_dict_purpose['Visit others'], \n",
    "                         'Life event':weighted_dict_purpose['Life event'], \n",
    "                         'Blank/non-response': weighted_dict_purpose['Blank/non-response'], \n",
    "                         'Other':(weighted_dict_purpose['School']+ weighted_dict_purpose['Conference'] + \n",
    "                          weighted_dict_purpose['Escorting/personal errands/medical'] +\n",
    "                          weighted_dict_purpose['Other']+ weighted_dict_purpose['Moving/immigration']\n",
    "                          + weighted_dict_purpose['Volunteer/political/religious'])}\n",
    "combined_purpose_dict #weighted dictionary of purpose, with most categories combined into other                    "
   ]
  },
  {
   "cell_type": "code",
   "execution_count": 16,
   "metadata": {},
   "outputs": [
    {
     "data": {
      "text/plain": [
       "{'Pleasure': 38.95328150718505,\n",
       " 'Business': 28.54050809254266,\n",
       " 'Visit others': 21.372942271090164,\n",
       " 'Life event': 3.770769361321698,\n",
       " 'Blank/non-response': 2.277526647759479,\n",
       " 'Other': 5.08497212010096}"
      ]
     },
     "execution_count": 16,
     "metadata": {},
     "output_type": "execute_result"
    }
   ],
   "source": [
    "#making pi chart of purpose of trip\n",
    "sum_purpose = sum(combined_purpose_dict.values())\n",
    "percent_purpose_dict = {}\n",
    "for key,value in combined_purpose_dict.items():\n",
    "    percent_purpose_dict[key] = value/sum_purpose*100\n",
    "    \n",
    "percent_purpose_dict"
   ]
  },
  {
   "cell_type": "code",
   "execution_count": 17,
   "metadata": {},
   "outputs": [
    {
     "data": {
      "image/png": "[encoded data removed]",
      "text/plain": [
       "<Figure size 432x288 with 1 Axes>"
      ]
     },
     "metadata": {},
     "output_type": "display_data"
    }
   ],
   "source": [
    "plt.pie(percent_purpose_dict.values(),labels=percent_purpose_dict.keys())\n",
    "plt.show()"
   ]
  },
  {
   "cell_type": "markdown",
   "metadata": {},
   "source": [
    "About 29% of travelers are business travelers, and the remaining are either traveling for pleasure or for some other reason."
   ]
  },
  {
   "cell_type": "code",
   "execution_count": 18,
   "metadata": {},
   "outputs": [],
   "source": [
    "sfo_data['Bags'] = sfo_data['Bags'].map({1:'Yes', 2:'No', 3:\"Don't know\", 0:'Blank/multiple responses'})"
   ]
  },
  {
   "cell_type": "code",
   "execution_count": 19,
   "metadata": {},
   "outputs": [
    {
     "data": {
      "text/plain": [
       "{'Yes': 1365.2843670839025,\n",
       " 'No': 1244.9253265144043,\n",
       " 'Blank/multiple responses': 208.98904592350007,\n",
       " \"Don't know\": 11.801260475099998}"
      ]
     },
     "execution_count": 19,
     "metadata": {},
     "output_type": "execute_result"
    }
   ],
   "source": [
    "weighted_dict_bags = weighted_dict('Bags', sfo_data) #weighted values of whether people checked bags\n",
    "weighted_dict_bags"
   ]
  },
  {
   "cell_type": "code",
   "execution_count": 20,
   "metadata": {},
   "outputs": [],
   "source": [
    "sfo_data['Store'] = sfo_data['Store'].map({1:'Yes', 2:'No', 3:\"Don't know\", 0:'Blank/multiple responses'})"
   ]
  },
  {
   "cell_type": "code",
   "execution_count": 21,
   "metadata": {},
   "outputs": [
    {
     "data": {
      "text/plain": [
       "{'No': 1438.2984425233115,\n",
       " 'Yes': 1092.2027147578956,\n",
       " 'Blank/multiple responses': 292.41961181109997,\n",
       " \"Don't know\": 8.079230904600001}"
      ]
     },
     "execution_count": 21,
     "metadata": {},
     "output_type": "execute_result"
    }
   ],
   "source": [
    "weighted_dict_store = weighted_dict('Store', sfo_data) #weighted values of whether people bought from store\n",
    "weighted_dict_store"
   ]
  },
  {
   "cell_type": "code",
   "execution_count": 22,
   "metadata": {},
   "outputs": [],
   "source": [
    "sfo_data['Food'] = sfo_data['Food'].map({1:'Yes', 2:'No', 3:\"Don't know\", 0:'Blank/multiple responses'})"
   ]
  },
  {
   "cell_type": "code",
   "execution_count": 23,
   "metadata": {},
   "outputs": [
    {
     "data": {
      "text/plain": [
       "{'Yes': 1385.856815000909,\n",
       " 'No': 1176.4570409325995,\n",
       " 'Blank/multiple responses': 253.21682758399993,\n",
       " \"Don't know\": 15.469316479399998}"
      ]
     },
     "execution_count": 23,
     "metadata": {},
     "output_type": "execute_result"
    }
   ],
   "source": [
    "weighted_dict_food = weighted_dict('Food', sfo_data) #weighted values of whether people bought food\n",
    "weighted_dict_food"
   ]
  },
  {
   "cell_type": "code",
   "execution_count": 24,
   "metadata": {},
   "outputs": [],
   "source": [
    "sfo_data['WiFi'] = sfo_data['WiFi'].map({1:'Yes', 2:'No', 3:\"Don't know\", 0:'Blank/multiple responses'})"
   ]
  },
  {
   "cell_type": "code",
   "execution_count": 25,
   "metadata": {},
   "outputs": [
    {
     "data": {
      "text/plain": [
       "{'Yes': 1431.3040567781093,\n",
       " 'No': 1126.7240913845965,\n",
       " 'Blank/multiple responses': 251.6681480759001,\n",
       " \"Don't know\": 21.303703758299996}"
      ]
     },
     "execution_count": 25,
     "metadata": {},
     "output_type": "execute_result"
    }
   ],
   "source": [
    "weighted_dict_wifi = weighted_dict('WiFi', sfo_data) #weighted values of whether people used WiFi\n",
    "weighted_dict_wifi"
   ]
  },
  {
   "cell_type": "code",
   "execution_count": 26,
   "metadata": {},
   "outputs": [],
   "source": [
    "sfo_data['TSA Pre-Check'] = sfo_data['TSA Pre-Check'].map({1:'Yes', 2:'No', 3:\"Don't know\", 4:'Transfer',\n",
    "                                                   0:'Blank/multiple responses'})"
   ]
  },
  {
   "cell_type": "code",
   "execution_count": 27,
   "metadata": {},
   "outputs": [
    {
     "data": {
      "text/plain": [
       "{'No': 1284.527984016603,\n",
       " 'Yes': 955.112027328696,\n",
       " \"Don't know\": 188.49725555869995,\n",
       " 'Transfer': 228.30755983699993,\n",
       " 'Blank/multiple responses': 174.55517325589997}"
      ]
     },
     "execution_count": 27,
     "metadata": {},
     "output_type": "execute_result"
    }
   ],
   "source": [
    "weighted_dict_tsapre = weighted_dict('TSA Pre-Check', sfo_data) #weighted values of use of TSA pre-check\n",
    "weighted_dict_tsapre\n",
    "#This data might be biased because some people who transferred put \"no\" and some people who transferred put \"transfer\""
   ]
  },
  {
   "cell_type": "code",
   "execution_count": 28,
   "metadata": {},
   "outputs": [],
   "source": [
    "sfo_data['Age'] = sfo_data['Age'].map({1:'Under18', 2:'18-24', 3:'25-34', 4:'35-44', 5:'45-54', 6:'55-64', \\\n",
    "                                            7:\"65Over\", 8:\"Don't know/Refused\", 0:'Blank/Multiple Responses'})"
   ]
  },
  {
   "cell_type": "code",
   "execution_count": 29,
   "metadata": {},
   "outputs": [
    {
     "data": {
      "text/plain": [
       "{'25-34': 640.9824501509976,\n",
       " '35-44': 513.3016869570981,\n",
       " '45-54': 471.90926290449863,\n",
       " '55-64': 450.94352440069906,\n",
       " '18-24': 342.44317506989955,\n",
       " '65Over': 300.0180827049999,\n",
       " \"Don't know/Refused\": 96.49959734710009,\n",
       " 'Under18': 13.958138082699998,\n",
       " 'Blank/Multiple Responses': 0.9440823789}"
      ]
     },
     "execution_count": 29,
     "metadata": {},
     "output_type": "execute_result"
    }
   ],
   "source": [
    "weighted_dict_age = weighted_dict('Age', sfo_data)\n",
    "weighted_dict_age #Age of passenger"
   ]
  },
  {
   "cell_type": "code",
   "execution_count": 30,
   "metadata": {},
   "outputs": [
    {
     "data": {
      "text/plain": [
       "{'1': 1074.7418850055947,\n",
       " '3-6': 712.6024808812964,\n",
       " '2': 584.7781263620981,\n",
       " '7-12': 249.26786872300016,\n",
       " '13-24': 94.94678391640001,\n",
       " '>24': 93.27997771819997,\n",
       " 'Blank/Multiple Responses': 21.38287739029999}"
      ]
     },
     "execution_count": 30,
     "metadata": {},
     "output_type": "execute_result"
    }
   ],
   "source": [
    "sfo_data['Times Flown'] = sfo_data['Times Flown'].map({1:'1', 2:'2', 3:'3-6', 4:'7-12', 5:'13-24', 6:'>24', \\\n",
    "                                                         0:'Blank/Multiple Responses'})\n",
    "weighted_dict_timesflown = weighted_dict('Times Flown', sfo_data) #number of times flown out of SFO in the past year\n",
    "weighted_dict_timesflown"
   ]
  },
  {
   "cell_type": "code",
   "execution_count": 31,
   "metadata": {},
   "outputs": [
    {
     "data": {
      "text/plain": [
       "{'Uber/Lyft': 637.9845407287969,\n",
       " 'Dropped off': 559.828300394098,\n",
       " 'Connecting from another flight': 676.1520189240985,\n",
       " 'Rental car center - AirTrain': 254.63794430840034,\n",
       " 'BART': 192.8376398856002,\n",
       " 'Drove and parked': 187.72440313400017,\n",
       " 'Taxi': 93.12595877370006,\n",
       " 'Free hotel shuttle': 87.60107299080008,\n",
       " 'Door-to-door van service': 46.723451371799975,\n",
       " 'Airport bus': 36.9935328758,\n",
       " 'Blank/no response': 33.9187907388,\n",
       " 'Limo/town car': 15.091302754499996,\n",
       " 'Other': 4.1690663282000004,\n",
       " 'Bus': 2.8262439077000003,\n",
       " 'Group arrangements': 1.3857328806}"
      ]
     },
     "execution_count": 31,
     "metadata": {},
     "output_type": "execute_result"
    }
   ],
   "source": [
    "sfo_data['Transportation'] = sfo_data['Transportation'].map({1:'Drove and parked', 2:'Dropped off', \\\n",
    "                                                 3:'Connecting from another flight', 4:'Taxi', 5:'Uber/Lyft', 6:'BART', \\\n",
    "                                                 7:'Door-to-door van service', 8:'Free hotel shuttle', \\\n",
    "                                                 9:'Rental car center - AirTrain', \\\n",
    "                                                10:'Other', 11:'not used', 12:'Limo/town car', 13:'Airport bus', \\\n",
    "                                                14: 'Group arrangements', \\\n",
    "                                                 15: 'Bus', 16: 'Caltrain/Amtrak/Train', 17: 'VTA', 18:'Carshare', \\\n",
    "                                                 0:'Blank/no response'\n",
    "                                                })\n",
    "weighted_dict_transport = weighted_dict('Transportation', sfo_data) #How did you get to the airport?\n",
    "weighted_dict_transport"
   ]
  },
  {
   "cell_type": "code",
   "execution_count": 32,
   "metadata": {},
   "outputs": [
    {
     "data": {
      "text/plain": [
       "{'Female': 1358.6998202458083,\n",
       " 'Male': 1292.3641946372034,\n",
       " 'Other': 11.0856757263,\n",
       " 'Blank/Multiple responses': 1.6671980039}"
      ]
     },
     "execution_count": 32,
     "metadata": {},
     "output_type": "execute_result"
    }
   ],
   "source": [
    "sfo_data['Gender'] = sfo_data['Gender'].map({1:'Male', 2:'Female', 3:'Other', 0:'Blank/Multiple responses'})\n",
    "weighted_dict_gender = weighted_dict('Gender', sfo_data)\n",
    "weighted_dict_gender"
   ]
  },
  {
   "cell_type": "code",
   "execution_count": 33,
   "metadata": {},
   "outputs": [
    {
     "data": {
      "text/plain": [
       "{'$50,000 - $100,000': 662.7524445808967,\n",
       " 'Over $150,000': 716.824634641096,\n",
       " 'Blank/Multiple responses': 511.4155085978985,\n",
       " '$100,000-$150,000': 515.2732982681981,\n",
       " 'Under $50,000': 424.73411390879926}"
      ]
     },
     "execution_count": 33,
     "metadata": {},
     "output_type": "execute_result"
    }
   ],
   "source": [
    "sfo_data['Income'] = sfo_data['Income'].map({1:'Under $50,000', 2:'$50,000 - $100,000', 3:'$100,000-$150,000', \\\n",
    "                                                  4:'Over $150,000', 5:'Other currency', \\\n",
    "                                                   0:'Blank/Multiple responses'})\n",
    "weighted_dict_income = weighted_dict('Income', sfo_data) #Household income of respondent\n",
    "weighted_dict_income"
   ]
  },
  {
   "cell_type": "code",
   "execution_count": 34,
   "metadata": {},
   "outputs": [],
   "source": [
    "#Making a new column that specifies whether the trip was business or non-business\n",
    "sfo_data['Business?'] = np.where(sfo_data['Purpose']=='Business', 'Business', 'Non-business')"
   ]
  },
  {
   "cell_type": "code",
   "execution_count": 35,
   "metadata": {},
   "outputs": [],
   "source": [
    "def cramers_v(x, y):\n",
    "    confusion_matrix = pd.crosstab(x,y)\n",
    "    chi2 = stats.chi2_contingency(confusion_matrix)[0]\n",
    "    n = confusion_matrix.sum().sum()\n",
    "    phi2 = chi2/n\n",
    "    r,k = confusion_matrix.shape\n",
    "    phi2corr = max(0, phi2-((k-1)*(r-1))/(n-1))\n",
    "    rcorr = r-((r-1)**2)/(n-1)\n",
    "    kcorr = k-((k-1)**2)/(n-1)\n",
    "    return np.sqrt(phi2corr/min((kcorr-1),(rcorr-1)))"
   ]
  },
  {
   "cell_type": "code",
   "execution_count": 36,
   "metadata": {},
   "outputs": [
    {
     "data": {
      "image/png": "[encoded data removed]",
      "text/plain": [
       "<Figure size 504x432 with 2 Axes>"
      ]
     },
     "metadata": {
      "needs_background": "light"
     },
     "output_type": "display_data"
    }
   ],
   "source": [
    "cols = ['Business?', 'Bags', 'Store', 'Food', 'WiFi', 'TSA Pre-Check', 'Age', 'Times Flown',\n",
    "       'Transportation', 'Gender', 'Income']\n",
    "\n",
    "corrM = np.ones((len(cols),len(cols)))\n",
    "for col1, col2 in itertools.combinations(cols, 2):\n",
    "    idx1, idx2 = cols.index(col1), cols.index(col2)\n",
    "    corrM[idx1, idx2] = cramers_v(sfo_data[col1], sfo_data[col2])\n",
    "    corrM[idx2, idx1] = corrM[idx1, idx2]\n",
    "\n",
    "corr = pd.DataFrame(corrM, index=cols, columns=cols)\n",
    "fig, ax = plt.subplots(figsize=(7, 6))\n",
    "ax = sns.heatmap(corr, annot=True, ax=ax); ax.set_title(\"Cramer's V Correlation between Variables\");"
   ]
  },
  {
   "cell_type": "markdown",
   "metadata": {},
   "source": [
    "The highest correlation was between whether someone got food and whether they went to a store. The next highest correlatoin was between age and gender. However, none of the correlations are that large.\n",
    "\n",
    "I am going to investigate the correlation between age and gender."
   ]
  },
  {
   "cell_type": "code",
   "execution_count": 37,
   "metadata": {},
   "outputs": [
    {
     "data": {
      "text/html": [
       "<div>\n",
       "<style scoped>\n",
       "    .dataframe tbody tr th:only-of-type {\n",
       "        vertical-align: middle;\n",
       "    }\n",
       "\n",
       "    .dataframe tbody tr th {\n",
       "        vertical-align: top;\n",
       "    }\n",
       "\n",
       "    .dataframe thead th {\n",
       "        text-align: right;\n",
       "    }\n",
       "</style>\n",
       "<table border=\"1\" class=\"dataframe\">\n",
       "  <thead>\n",
       "    <tr style=\"text-align: right;\">\n",
       "      <th>Gender</th>\n",
       "      <th>Blank/Multiple responses</th>\n",
       "      <th>Female</th>\n",
       "      <th>Male</th>\n",
       "      <th>Other</th>\n",
       "    </tr>\n",
       "    <tr>\n",
       "      <th>Age</th>\n",
       "      <th></th>\n",
       "      <th></th>\n",
       "      <th></th>\n",
       "      <th></th>\n",
       "    </tr>\n",
       "  </thead>\n",
       "  <tbody>\n",
       "    <tr>\n",
       "      <th>18-24</th>\n",
       "      <td>0</td>\n",
       "      <td>210</td>\n",
       "      <td>140</td>\n",
       "      <td>7</td>\n",
       "    </tr>\n",
       "    <tr>\n",
       "      <th>25-34</th>\n",
       "      <td>0</td>\n",
       "      <td>345</td>\n",
       "      <td>300</td>\n",
       "      <td>0</td>\n",
       "    </tr>\n",
       "    <tr>\n",
       "      <th>35-44</th>\n",
       "      <td>0</td>\n",
       "      <td>234</td>\n",
       "      <td>254</td>\n",
       "      <td>1</td>\n",
       "    </tr>\n",
       "    <tr>\n",
       "      <th>45-54</th>\n",
       "      <td>0</td>\n",
       "      <td>192</td>\n",
       "      <td>240</td>\n",
       "      <td>1</td>\n",
       "    </tr>\n",
       "    <tr>\n",
       "      <th>55-64</th>\n",
       "      <td>0</td>\n",
       "      <td>212</td>\n",
       "      <td>220</td>\n",
       "      <td>0</td>\n",
       "    </tr>\n",
       "    <tr>\n",
       "      <th>65Over</th>\n",
       "      <td>1</td>\n",
       "      <td>136</td>\n",
       "      <td>141</td>\n",
       "      <td>0</td>\n",
       "    </tr>\n",
       "    <tr>\n",
       "      <th>Blank/Multiple Responses</th>\n",
       "      <td>1</td>\n",
       "      <td>0</td>\n",
       "      <td>0</td>\n",
       "      <td>0</td>\n",
       "    </tr>\n",
       "    <tr>\n",
       "      <th>Don't know/Refused</th>\n",
       "      <td>0</td>\n",
       "      <td>10</td>\n",
       "      <td>4</td>\n",
       "      <td>1</td>\n",
       "    </tr>\n",
       "    <tr>\n",
       "      <th>Under18</th>\n",
       "      <td>0</td>\n",
       "      <td>8</td>\n",
       "      <td>7</td>\n",
       "      <td>0</td>\n",
       "    </tr>\n",
       "  </tbody>\n",
       "</table>\n",
       "</div>"
      ],
      "text/plain": [
       "Gender                    Blank/Multiple responses  Female  Male  Other\n",
       "Age                                                                    \n",
       "18-24                                            0     210   140      7\n",
       "25-34                                            0     345   300      0\n",
       "35-44                                            0     234   254      1\n",
       "45-54                                            0     192   240      1\n",
       "55-64                                            0     212   220      0\n",
       "65Over                                           1     136   141      0\n",
       "Blank/Multiple Responses                         1       0     0      0\n",
       "Don't know/Refused                               0      10     4      1\n",
       "Under18                                          0       8     7      0"
      ]
     },
     "execution_count": 37,
     "metadata": {},
     "output_type": "execute_result"
    }
   ],
   "source": [
    "confusion_matrix_age_gender = pd.crosstab(sfo_data['Age'], sfo_data['Gender'])\n",
    "confusion_matrix_age_gender"
   ]
  },
  {
   "cell_type": "markdown",
   "metadata": {},
   "source": [
    "It looks like there are more females than males between the ages of 18 and 34, and more males than females between the ages of 35 and 54. Over age 55 it seems to be about even."
   ]
  },
  {
   "cell_type": "code",
   "execution_count": 38,
   "metadata": {},
   "outputs": [],
   "source": [
    "#making two new dataframes to separate business and non-business so I can do analysis on them separately.\n",
    "business_only = sfo_data[sfo_data['Business?'] == 'Business']\n",
    "nonbusiness_only = sfo_data[sfo_data['Business?'] == 'Non-business']"
   ]
  },
  {
   "cell_type": "code",
   "execution_count": 39,
   "metadata": {},
   "outputs": [
    {
     "data": {
      "image/png": "[encoded data removed]",
      "text/plain": [
       "<Figure size 432x288 with 1 Axes>"
      ]
     },
     "metadata": {
      "needs_background": "light"
     },
     "output_type": "display_data"
    }
   ],
   "source": [
    "#plotting distribution of how people got to airport\n",
    "_ = plt.bar(range(len(weighted_dict_transport)), list(weighted_dict_transport.values()), align='center')\n",
    "_ = plt.xticks(range(len(weighted_dict_transport)), list(weighted_dict_transport.keys()), rotation='vertical')"
   ]
  },
  {
   "cell_type": "code",
   "execution_count": 40,
   "metadata": {},
   "outputs": [],
   "source": [
    "#Function for doing hypothesis test of whether weighted\n",
    "#proportion between business and non-business dataframes are different\n",
    "def hypothesis_test(variable_name, value_name):\n",
    "    business_dict = weighted_dict(variable_name,business_only)\n",
    "    sum_business_dict = sum(list(business_dict.values()))\n",
    "    proportion_business = business_dict[value_name]/sum_business_dict\n",
    "    \n",
    "    nonbusiness_dict = weighted_dict(variable_name,nonbusiness_only)\n",
    "    sum_nonbusiness_dict = sum(list(nonbusiness_dict.values()))\n",
    "    proportion_nonbusiness = nonbusiness_dict[value_name]/sum_nonbusiness_dict\n",
    "    \n",
    "    pooled_proportion = (proportion_business*sum_business_dict + proportion_nonbusiness*sum_nonbusiness_dict)/ \\\n",
    "                        (sum_business_dict+sum_nonbusiness_dict)\n",
    "    \n",
    "    standard_error_proportion = np.sqrt(pooled_proportion*(1-pooled_proportion)*((1/sum_business_dict) + \\\n",
    "                                                                                (1/sum_nonbusiness_dict)))\n",
    "    z = (proportion_business - proportion_nonbusiness)/standard_error_proportion\n",
    "    return proportion_business, proportion_nonbusiness, z"
   ]
  },
  {
   "cell_type": "code",
   "execution_count": 41,
   "metadata": {},
   "outputs": [
    {
     "data": {
      "text/plain": [
       "(0.30189121820549963, 0.1947891188238257, 6.159460518805072)"
      ]
     },
     "execution_count": 41,
     "metadata": {},
     "output_type": "execute_result"
    }
   ],
   "source": [
    "hypothesis_test('Transportation','Uber/Lyft')\n",
    "#scipy stats proportion test"
   ]
  },
  {
   "cell_type": "markdown",
   "metadata": {},
   "source": [
    "The proportion of business travelers who take Uber/Lyft is 0.30, the proportion of non-business travelers who take Uber/Lyft is 0.19, the z-score is 6.16 which corresponds to very small p-value. The P-Value is < .00001. There is a significant difference between the proportion of business travelers who take Uber/Lyft and the proportion of non-business travelers who take Uber/Lyft. The proportion of business travelers that take Uber/Lyft is significantly higher than non-business travelers."
   ]
  },
  {
   "cell_type": "markdown",
   "metadata": {},
   "source": [
    "I will now do summaries of business travelers vs. non-business travelers for a variety of questions."
   ]
  },
  {
   "cell_type": "code",
   "execution_count": 42,
   "metadata": {},
   "outputs": [
    {
     "data": {
      "text/plain": [
       "{'Uber/Lyft': 243.9226050895003,\n",
       " 'Connecting from another flight': 176.90201519230004,\n",
       " 'Dropped off': 84.18559469920008,\n",
       " 'Rental car center - AirTrain': 86.56991947860001,\n",
       " 'Drove and parked': 62.45864828330002,\n",
       " 'Taxi': 43.900562276900004,\n",
       " 'BART': 50.08560159800002,\n",
       " 'Free hotel shuttle': 25.895760840100003,\n",
       " 'Door-to-door van service': 10.187451680399999,\n",
       " 'Limo/town car': 9.6652576088,\n",
       " 'Blank/no response': 6.226356189600001,\n",
       " 'Airport bus': 6.6600292421,\n",
       " 'Group arrangements': 0.37789954130000003,\n",
       " 'Other': 0.9440823789}"
      ]
     },
     "execution_count": 42,
     "metadata": {},
     "output_type": "execute_result"
    }
   ],
   "source": [
    "businessonly_travel = weighted_dict('Transportation', business_only)\n",
    "#most business travelers took Uber/Lyft to get to the airport\n",
    "businessonly_travel"
   ]
  },
  {
   "cell_type": "code",
   "execution_count": 43,
   "metadata": {},
   "outputs": [
    {
     "data": {
      "text/plain": [
       "{'Dropped off': 475.6427056948985,\n",
       " 'Connecting from another flight': 499.25000373179915,\n",
       " 'Uber/Lyft': 394.0619356392995,\n",
       " 'BART': 142.75203828760016,\n",
       " 'Rental car center - AirTrain': 168.06802482980018,\n",
       " 'Drove and parked': 125.26575485070013,\n",
       " 'Free hotel shuttle': 61.705312150699996,\n",
       " 'Taxi': 49.22539649679998,\n",
       " 'Door-to-door van service': 36.53599969139998,\n",
       " 'Airport bus': 30.333503633699994,\n",
       " 'Blank/no response': 27.6924345492,\n",
       " 'Limo/town car': 5.4260451457,\n",
       " 'Other': 3.2249839493000003,\n",
       " 'Bus': 2.8262439077000003,\n",
       " 'Group arrangements': 1.0078333393}"
      ]
     },
     "execution_count": 43,
     "metadata": {},
     "output_type": "execute_result"
    }
   ],
   "source": [
    "nonbusinessonly_travel = weighted_dict('Transportation', nonbusiness_only)\n",
    "nonbusinessonly_travel"
   ]
  },
  {
   "cell_type": "code",
   "execution_count": 44,
   "metadata": {},
   "outputs": [
    {
     "data": {
      "image/png": "[encoded data removed]",
      "text/plain": [
       "<Figure size 432x288 with 1 Axes>"
      ]
     },
     "metadata": {
      "needs_background": "light"
     },
     "output_type": "display_data"
    }
   ],
   "source": [
    "#plotting distribution of how people got to airport\n",
    "plt.bar(range(len(dict(businessonly_travel))), list(dict(businessonly_travel).values()), align='center')\n",
    "plt.xticks(range(len(dict(businessonly_travel))), list(dict(businessonly_travel).keys()), rotation='vertical')\n",
    "plt.title('How business travelers got to the airport')\n",
    "plt.ylabel('Count')\n",
    "plt.show()"
   ]
  },
  {
   "cell_type": "code",
   "execution_count": 45,
   "metadata": {},
   "outputs": [
    {
     "data": {
      "image/png": "[encoded data removed]",
      "text/plain": [
       "<Figure size 432x288 with 1 Axes>"
      ]
     },
     "metadata": {
      "needs_background": "light"
     },
     "output_type": "display_data"
    }
   ],
   "source": [
    "#plotting distribution of how people got to airport\n",
    "plt.bar(range(len(dict(nonbusinessonly_travel))), list(dict(nonbusinessonly_travel).values()), align='center')\n",
    "plt.xticks(range(len(dict(nonbusinessonly_travel))), list(dict(nonbusinessonly_travel).keys()), rotation='vertical')\n",
    "plt.title('How non-business travelers got to the airport')\n",
    "plt.ylabel('Count')\n",
    "plt.show()"
   ]
  },
  {
   "cell_type": "code",
   "execution_count": 46,
   "metadata": {},
   "outputs": [
    {
     "data": {
      "text/plain": [
       "{'No': 495.6596444305985,\n",
       " 'Yes': 250.40457617069995,\n",
       " 'Blank/multiple responses': 56.98444530460002,\n",
       " \"Don't know\": 4.9331181931}"
      ]
     },
     "execution_count": 46,
     "metadata": {},
     "output_type": "execute_result"
    }
   ],
   "source": [
    "business_only_bags_dict = weighted_dict('Bags', business_only)\n",
    "business_only_bags_dict"
   ]
  },
  {
   "cell_type": "code",
   "execution_count": 47,
   "metadata": {},
   "outputs": [
    {
     "data": {
      "text/plain": [
       "{'Yes': 1114.8797909131958,\n",
       " 'No': 749.2656820837964,\n",
       " 'Blank/multiple responses': 152.00460061890016,\n",
       " \"Don't know\": 6.868142282000001}"
      ]
     },
     "execution_count": 47,
     "metadata": {},
     "output_type": "execute_result"
    }
   ],
   "source": [
    "nonbusiness_only_bags_dict = weighted_dict('Bags', nonbusiness_only)\n",
    "nonbusiness_only_bags_dict"
   ]
  },
  {
   "cell_type": "code",
   "execution_count": 48,
   "metadata": {},
   "outputs": [
    {
     "data": {
      "image/png": "[encoded data removed]",
      "text/plain": [
       "<Figure size 432x288 with 1 Axes>"
      ]
     },
     "metadata": {
      "needs_background": "light"
     },
     "output_type": "display_data"
    }
   ],
   "source": [
    "# set width of bar\n",
    "barWidth = 0.25\n",
    " \n",
    "# set height of bar\n",
    "bars1 = [business_only_bags_dict['Yes'], business_only_bags_dict['No']]\n",
    "bars2 = [nonbusiness_only_bags_dict['Yes'], nonbusiness_only_bags_dict['No']]\n",
    " \n",
    "# Set position of bar on X axis\n",
    "r1 = np.arange(len(bars1))\n",
    "r2 = [x + barWidth for x in r1]\n",
    " \n",
    "# Make the plot\n",
    "plt.bar(r1, bars1, color='#b5ffb9', width=barWidth, edgecolor='white', label='var1')\n",
    "plt.bar(r2, bars2, color='#f9bc86', width=barWidth, edgecolor='white', label='var2')\n",
    " \n",
    "# Add xticks on the middle of the group bars\n",
    "plt.xticks([r + barWidth for r in range(len(bars1))], ['Yes', 'No'])\n",
    "plt.ylabel('Count')\n",
    " \n",
    "# Create legend & Show graphic\n",
    "plt.legend(['Business', 'Non-business'])\n",
    "plt.title('Did you check bags?')\n",
    "plt.show()"
   ]
  },
  {
   "cell_type": "markdown",
   "metadata": {},
   "source": [
    "Business travelers mostly did not check bags, and non-business travelers mostly did check bags."
   ]
  },
  {
   "cell_type": "code",
   "execution_count": 49,
   "metadata": {},
   "outputs": [
    {
     "data": {
      "text/plain": [
       "(0.3099136405035821, 0.5510972576281868, -11.597970550898987)"
      ]
     },
     "execution_count": 49,
     "metadata": {},
     "output_type": "execute_result"
    }
   ],
   "source": [
    "hypothesis_test('Bags','Yes')"
   ]
  },
  {
   "cell_type": "markdown",
   "metadata": {},
   "source": [
    "There is a significant difference between the proportions of business travelers that checked bags and the proportion of non-business travelers that checked bags."
   ]
  },
  {
   "cell_type": "code",
   "execution_count": 50,
   "metadata": {},
   "outputs": [
    {
     "data": {
      "text/plain": [
       "{'No': 426.12973191249915,\n",
       " 'Yes': 316.6223823837,\n",
       " 'Blank/multiple responses': 63.90768788260003,\n",
       " \"Don't know\": 1.3219819202}"
      ]
     },
     "execution_count": 50,
     "metadata": {},
     "output_type": "execute_result"
    }
   ],
   "source": [
    "business_only_store_dict = weighted_dict('Store', business_only)\n",
    "business_only_store_dict"
   ]
  },
  {
   "cell_type": "code",
   "execution_count": 51,
   "metadata": {},
   "outputs": [
    {
     "data": {
      "text/plain": [
       "{'No': 1012.1687106107952,\n",
       " 'Yes': 775.5803323741958,\n",
       " 'Blank/multiple responses': 228.51192392849995,\n",
       " \"Don't know\": 6.757248984400001}"
      ]
     },
     "execution_count": 51,
     "metadata": {},
     "output_type": "execute_result"
    }
   ],
   "source": [
    "nonbusiness_only_store_dict = weighted_dict('Store', nonbusiness_only)\n",
    "nonbusiness_only_store_dict"
   ]
  },
  {
   "cell_type": "code",
   "execution_count": 52,
   "metadata": {},
   "outputs": [
    {
     "data": {
      "image/png": "[encoded data removed]",
      "text/plain": [
       "<Figure size 432x288 with 1 Axes>"
      ]
     },
     "metadata": {
      "needs_background": "light"
     },
     "output_type": "display_data"
    }
   ],
   "source": [
    "# set width of bar\n",
    "barWidth = 0.25\n",
    " \n",
    "# set height of bar\n",
    "bars1 = [business_only_store_dict['Yes'], business_only_store_dict['No']]\n",
    "bars2 = [nonbusiness_only_store_dict['Yes'], nonbusiness_only_store_dict['No']]\n",
    " \n",
    "# Set position of bar on X axis\n",
    "r1 = np.arange(len(bars1))\n",
    "r2 = [x + barWidth for x in r1]\n",
    " \n",
    "# Make the plot\n",
    "plt.bar(r1, bars1, color='#b5ffb9', width=barWidth, edgecolor='white', label='var1')\n",
    "plt.bar(r2, bars2, color='#f9bc86', width=barWidth, edgecolor='white', label='var2')\n",
    " \n",
    "# Add xticks on the middle of the group bars\n",
    "plt.xticks([r + barWidth for r in range(len(bars1))], ['Yes', 'No'])\n",
    "plt.ylabel('Count')\n",
    " \n",
    "# Create legend & Show graphic\n",
    "plt.legend(['Business', 'Non-business'])\n",
    "plt.title('Did you purchase something from a store?')\n",
    "plt.show()"
   ]
  },
  {
   "cell_type": "code",
   "execution_count": 53,
   "metadata": {},
   "outputs": [
    {
     "data": {
      "text/plain": [
       "(0.39186821858462273, 0.3833778293637185, 0.4191042969039107)"
      ]
     },
     "execution_count": 53,
     "metadata": {},
     "output_type": "execute_result"
    }
   ],
   "source": [
    "hypothesis_test('Store','Yes')"
   ]
  },
  {
   "cell_type": "markdown",
   "metadata": {},
   "source": [
    "There is not a significant difference between business and non-business travelers in terms of whether they purchased something from the store."
   ]
  },
  {
   "cell_type": "code",
   "execution_count": 54,
   "metadata": {},
   "outputs": [
    {
     "data": {
      "text/plain": [
       "{'Yes': 413.9990656712993,\n",
       " 'No': 334.43237876789965,\n",
       " 'Blank/multiple responses': 56.90560669199999,\n",
       " \"Don't know\": 2.6447329678}"
      ]
     },
     "execution_count": 54,
     "metadata": {},
     "output_type": "execute_result"
    }
   ],
   "source": [
    "business_only_food_dict = weighted_dict('Food', business_only)\n",
    "business_only_food_dict"
   ]
  },
  {
   "cell_type": "code",
   "execution_count": 55,
   "metadata": {},
   "outputs": [
    {
     "data": {
      "text/plain": [
       "{'Yes': 971.8577493295944,\n",
       " 'No': 842.024662164696,\n",
       " 'Blank/multiple responses': 196.311220892,\n",
       " \"Don't know\": 12.8245835116}"
      ]
     },
     "execution_count": 55,
     "metadata": {},
     "output_type": "execute_result"
    }
   ],
   "source": [
    "nonbusiness_only_food_dict = weighted_dict('Food', nonbusiness_only)\n",
    "nonbusiness_only_food_dict"
   ]
  },
  {
   "cell_type": "code",
   "execution_count": 56,
   "metadata": {},
   "outputs": [
    {
     "data": {
      "image/png": "[encoded data removed]",
      "text/plain": [
       "<Figure size 720x360 with 1 Axes>"
      ]
     },
     "metadata": {
      "needs_background": "light"
     },
     "output_type": "display_data"
    }
   ],
   "source": [
    "# set width of bar\n",
    "barWidth = 0.25\n",
    " \n",
    "# set height of bar\n",
    "bars1 = [business_only_food_dict['Yes'], business_only_food_dict['No']]\n",
    "bars2 = [nonbusiness_only_food_dict['Yes'], nonbusiness_only_food_dict['No']]\n",
    " \n",
    "# Set position of bar on X axis\n",
    "r1 = np.arange(len(bars1))\n",
    "r2 = [x + barWidth for x in r1]\n",
    " \n",
    "# Make the plot\n",
    "plt.figure(figsize=(10,5))\n",
    "plt.bar(r1, bars1, color='#b5ffb9', width=barWidth, edgecolor='white', label='var1')\n",
    "plt.bar(r2, bars2, color='#f9bc86', width=barWidth, edgecolor='white', label='var2')\n",
    " \n",
    "# Add xticks on the middle of the group bars\n",
    "plt.xticks([r + barWidth for r in range(len(bars1))], ['Yes', 'No'])\n",
    "plt.ylabel('Count')\n",
    " \n",
    "# Create legend & Show graphic\n",
    "plt.legend(['Business', 'Non-business'])\n",
    "plt.title('Did you purchase food?')\n",
    "plt.show()"
   ]
  },
  {
   "cell_type": "code",
   "execution_count": 57,
   "metadata": {},
   "outputs": [
    {
     "data": {
      "text/plain": [
       "(0.5123866327419253, 0.48039990035297236, 1.5375380513930943)"
      ]
     },
     "execution_count": 57,
     "metadata": {},
     "output_type": "execute_result"
    }
   ],
   "source": [
    "hypothesis_test('Food','Yes')"
   ]
  },
  {
   "cell_type": "markdown",
   "metadata": {},
   "source": [
    "There is not a significant difference between business travelers and non-business travelers in terms of whether they purchased food."
   ]
  },
  {
   "cell_type": "code",
   "execution_count": 58,
   "metadata": {},
   "outputs": [
    {
     "data": {
      "text/plain": [
       "{'Yes': 413.285762700299,\n",
       " 'No': 336.49647393559985,\n",
       " 'Blank/multiple responses': 56.1886878272,\n",
       " \"Don't know\": 2.0108596359}"
      ]
     },
     "execution_count": 58,
     "metadata": {},
     "output_type": "execute_result"
    }
   ],
   "source": [
    "business_only_wifi_dict = weighted_dict('WiFi', business_only)\n",
    "business_only_wifi_dict"
   ]
  },
  {
   "cell_type": "code",
   "execution_count": 59,
   "metadata": {},
   "outputs": [
    {
     "data": {
      "text/plain": [
       "{'Yes': 1018.0182940777948,\n",
       " 'No': 790.2276174489957,\n",
       " 'Blank/multiple responses': 195.47946024869995,\n",
       " \"Don't know\": 19.292844122399995}"
      ]
     },
     "execution_count": 59,
     "metadata": {},
     "output_type": "execute_result"
    }
   ],
   "source": [
    "nonbusiness_only_wifi_dict = weighted_dict('WiFi', nonbusiness_only)\n",
    "nonbusiness_only_wifi_dict"
   ]
  },
  {
   "cell_type": "code",
   "execution_count": 60,
   "metadata": {},
   "outputs": [
    {
     "data": {
      "image/png": "[encoded data removed]",
      "text/plain": [
       "<Figure size 432x288 with 1 Axes>"
      ]
     },
     "metadata": {
      "needs_background": "light"
     },
     "output_type": "display_data"
    }
   ],
   "source": [
    "# set width of bar\n",
    "barWidth = 0.25\n",
    " \n",
    "# set height of bar\n",
    "bars1 = [business_only_wifi_dict['Yes'], business_only_wifi_dict['No']]\n",
    "bars2 = [nonbusiness_only_wifi_dict['Yes'], nonbusiness_only_wifi_dict['No']]\n",
    " \n",
    "# Set position of bar on X axis\n",
    "r1 = np.arange(len(bars1))\n",
    "r2 = [x + barWidth for x in r1]\n",
    " \n",
    "# Make the plot\n",
    "plt.bar(r1, bars1, color='#b5ffb9', width=barWidth, edgecolor='white', label='var1')\n",
    "plt.bar(r2, bars2, color='#f9bc86', width=barWidth, edgecolor='white', label='var2')\n",
    " \n",
    "# Add xticks on the middle of the group bars\n",
    "plt.xticks([r + barWidth for r in range(len(bars1))], ['Yes', 'No'])\n",
    "plt.ylabel('Count')\n",
    " \n",
    "# Create legend & Show graphic\n",
    "plt.legend(['Business', 'Non-business'])\n",
    "plt.title('Did you use the free WiFi?')\n",
    "plt.show()"
   ]
  },
  {
   "cell_type": "code",
   "execution_count": 61,
   "metadata": {},
   "outputs": [
    {
     "data": {
      "text/plain": [
       "(0.5115038121325526, 0.5032175617983551, 0.39824090180060606)"
      ]
     },
     "execution_count": 61,
     "metadata": {},
     "output_type": "execute_result"
    }
   ],
   "source": [
    "hypothesis_test('WiFi','Yes')"
   ]
  },
  {
   "cell_type": "markdown",
   "metadata": {},
   "source": [
    "There is not a significant difference between the proportion of business and non-business travelers who used the WiFi."
   ]
  },
  {
   "cell_type": "code",
   "execution_count": 62,
   "metadata": {},
   "outputs": [
    {
     "data": {
      "text/plain": [
       "{'3-6': 215.3496434665001,\n",
       " '1': 189.70328069640013,\n",
       " '2': 134.08823373660002,\n",
       " '7-12': 138.9244623244,\n",
       " '13-24': 61.616022912100036,\n",
       " '>24': 63.88213393130003,\n",
       " 'Blank/Multiple Responses': 4.4180070317}"
      ]
     },
     "execution_count": 62,
     "metadata": {},
     "output_type": "execute_result"
    }
   ],
   "source": [
    "business_only_timesflown_dict = weighted_dict('Times Flown', business_only)\n",
    "business_only_timesflown_dict"
   ]
  },
  {
   "cell_type": "code",
   "execution_count": 63,
   "metadata": {},
   "outputs": [
    {
     "data": {
      "text/plain": [
       "{'1': 885.0386043091955,\n",
       " '3-6': 497.25283741479876,\n",
       " '2': 450.68989262549854,\n",
       " '7-12': 110.34340639860011,\n",
       " '13-24': 33.3307610043,\n",
       " '>24': 29.397843786900008,\n",
       " 'Blank/Multiple Responses': 16.964870358599995}"
      ]
     },
     "execution_count": 63,
     "metadata": {},
     "output_type": "execute_result"
    }
   ],
   "source": [
    "nonbusiness_only_timesflown_dict = weighted_dict('Times Flown', nonbusiness_only)\n",
    "nonbusiness_only_timesflown_dict"
   ]
  },
  {
   "cell_type": "code",
   "execution_count": 64,
   "metadata": {},
   "outputs": [],
   "source": [
    "r = [0,1,2,3,4,5]\n",
    "raw_data_timesflown = {'Business': [business_only_timesflown_dict['1'], business_only_timesflown_dict['2'],\n",
    "                                    business_only_timesflown_dict['3-6'], business_only_timesflown_dict['7-12'],\n",
    "                                    business_only_timesflown_dict['13-24'], business_only_timesflown_dict['>24']],\n",
    "                       'Non-business': [nonbusiness_only_timesflown_dict['1'], nonbusiness_only_timesflown_dict['2'],\n",
    "                                    nonbusiness_only_timesflown_dict['3-6'], nonbusiness_only_timesflown_dict['7-12'],\n",
    "                                    nonbusiness_only_timesflown_dict['13-24'], \n",
    "                                        nonbusiness_only_timesflown_dict['>24']]}\n",
    "df_timesflown = pd.DataFrame(raw_data_timesflown)\n",
    "totals_timesflown = [i+j for i,j in zip(df_timesflown['Business'], df_timesflown['Non-business'])]\n",
    "business_timesflown = [i/j*100 for i,j in zip(df_timesflown['Business'], totals_timesflown)]\n",
    "nonbusiness_timesflown = [i/j*100 for i,j in zip(df_timesflown['Non-business'], totals_timesflown)]"
   ]
  },
  {
   "cell_type": "code",
   "execution_count": 65,
   "metadata": {},
   "outputs": [
    {
     "data": {
      "image/png": "[encoded data removed]",
      "text/plain": [
       "<Figure size 432x288 with 1 Axes>"
      ]
     },
     "metadata": {
      "needs_background": "light"
     },
     "output_type": "display_data"
    }
   ],
   "source": [
    "# plot\n",
    "barWidth = 0.85\n",
    "names = ('1 time','2 times', '3-6 times', '7-12 times', '13-24 times', '> 24 times')\n",
    "# Create business_timesflown Bars\n",
    "plt.bar(r, business_timesflown, color='#b5ffb9', edgecolor='white', width=barWidth)\n",
    "# Create nonbusiness_timesflown Bars\n",
    "plt.bar(r, nonbusiness_timesflown, bottom=business_timesflown, color='#f9bc86', edgecolor='white', width=barWidth)\n",
    "plt.xticks(r, names, rotation='vertical')\n",
    "plt.ylabel('Percent')\n",
    "plt.legend(['Business', 'Non-business'])\n",
    "plt.title('How many times have you flown out of SFO in the past year?')\n",
    "plt.show()"
   ]
  },
  {
   "cell_type": "markdown",
   "metadata": {},
   "source": [
    "As the number of times flying out of SFO increases, the proportion of travelers who are business travelers drastically increases. It is particularly high for people flying more than 13 times per year."
   ]
  },
  {
   "cell_type": "code",
   "execution_count": 66,
   "metadata": {},
   "outputs": [
    {
     "data": {
      "text/plain": [
       "(0.07625917331887566, 0.016475759210851464, 7.979008539529499)"
      ]
     },
     "execution_count": 66,
     "metadata": {},
     "output_type": "execute_result"
    }
   ],
   "source": [
    "hypothesis_test('Times Flown','13-24')"
   ]
  },
  {
   "cell_type": "code",
   "execution_count": 67,
   "metadata": {},
   "outputs": [
    {
     "data": {
      "text/plain": [
       "(0.07906382939379818, 0.014531675274042019, 8.686764455313774)"
      ]
     },
     "execution_count": 67,
     "metadata": {},
     "output_type": "execute_result"
    }
   ],
   "source": [
    "hypothesis_test('Times Flown','>24')"
   ]
  },
  {
   "cell_type": "markdown",
   "metadata": {},
   "source": [
    "The proportion of travelers flying more than 13 times per year is significantly different between business and non-business travelers."
   ]
  },
  {
   "cell_type": "code",
   "execution_count": 68,
   "metadata": {},
   "outputs": [
    {
     "data": {
      "text/plain": [
       "{'35-44': 203.99958391660016,\n",
       " '45-54': 207.09436263450038,\n",
       " '25-34': 182.65169685750013,\n",
       " '55-64': 122.20937379430008,\n",
       " '18-24': 34.5950895858,\n",
       " '65Over': 32.198006024200005,\n",
       " \"Don't know/Refused\": 25.233671286099995}"
      ]
     },
     "execution_count": 68,
     "metadata": {},
     "output_type": "execute_result"
    }
   ],
   "source": [
    "business_only_age_dict = weighted_dict('Age', business_only)\n",
    "business_only_age_dict"
   ]
  },
  {
   "cell_type": "code",
   "execution_count": 69,
   "metadata": {},
   "outputs": [
    {
     "data": {
      "text/plain": [
       "{'25-34': 458.3307532934986,\n",
       " '55-64': 328.73415060639996,\n",
       " '18-24': 307.84808548409995,\n",
       " '35-44': 309.3021030404996,\n",
       " '45-54': 264.81490027000007,\n",
       " '65Over': 267.8200766808001,\n",
       " \"Don't know/Refused\": 71.26592606100004,\n",
       " 'Under18': 13.958138082699998,\n",
       " 'Blank/Multiple Responses': 0.9440823789}"
      ]
     },
     "execution_count": 69,
     "metadata": {},
     "output_type": "execute_result"
    }
   ],
   "source": [
    "nonbusiness_only_age_dict = weighted_dict('Age', nonbusiness_only)\n",
    "nonbusiness_only_age_dict\n",
    "#non-business travelers are more age-distributed, with large groups between ages 18-24 and 65+"
   ]
  },
  {
   "cell_type": "code",
   "execution_count": 70,
   "metadata": {},
   "outputs": [
    {
     "data": {
      "image/png": "[encoded data removed]",
      "text/plain": [
       "<Figure size 432x288 with 1 Axes>"
      ]
     },
     "metadata": {
      "needs_background": "light"
     },
     "output_type": "display_data"
    }
   ],
   "source": [
    "# set width of bar\n",
    "barWidth = 0.25\n",
    "\n",
    "business_only_age_dict['Under18'] = 0\n",
    " \n",
    "# set height of bar\n",
    "bars1 = [business_only_age_dict['Under18'], business_only_age_dict['18-24'],\n",
    "                                   business_only_age_dict['25-34'], business_only_age_dict['35-44'],\n",
    "                                   business_only_age_dict['45-54'], business_only_age_dict['55-64'],\n",
    "                                   business_only_age_dict['65Over']]\n",
    "bars2 = [nonbusiness_only_age_dict['Under18'], nonbusiness_only_age_dict['18-24'],\n",
    "                                   nonbusiness_only_age_dict['25-34'], nonbusiness_only_age_dict['35-44'],\n",
    "                                   nonbusiness_only_age_dict['45-54'], nonbusiness_only_age_dict['55-64'],\n",
    "                                   nonbusiness_only_age_dict['65Over']]\n",
    " \n",
    "# Set position of bar on X axis\n",
    "r1 = np.arange(len(bars1))\n",
    "r2 = [x + barWidth for x in r1]\n",
    " \n",
    "# Make the plot\n",
    "plt.bar(r1, bars1, color='#b5ffb9', width=barWidth, edgecolor='white', label='var1')\n",
    "plt.bar(r2, bars2, color='#f9bc86', width=barWidth, edgecolor='white', label='var2')\n",
    " \n",
    "# Add xticks on the middle of the group bars\n",
    "plt.xticks([r + barWidth for r in range(len(bars1))], ['Under 18', '18-24', '25-34', '35-44', '45-54', '55-64',\n",
    "                                                      '65+'])\n",
    "plt.ylabel('Count')\n",
    " \n",
    "# Create legend & Show graphic\n",
    "plt.legend(['Business', 'Non-business'])\n",
    "plt.title('Age of respondent')\n",
    "plt.show()"
   ]
  },
  {
   "cell_type": "code",
   "execution_count": 71,
   "metadata": {},
   "outputs": [
    {
     "data": {
      "text/plain": [
       "42.87333121882889"
      ]
     },
     "execution_count": 71,
     "metadata": {},
     "output_type": "execute_result"
    }
   ],
   "source": [
    "#Going to calculate average age for business and non-business\n",
    "avg_age_business = (21*business_only_age_dict['18-24'] + 29*business_only_age_dict['25-34'] + \\\n",
    "                   39*business_only_age_dict['35-44'] + 49*business_only_age_dict['45-54'] + \\\n",
    "                   59*business_only_age_dict['55-64'] + 69*business_only_age_dict['65Over'])/ \\\n",
    "                   (business_only_age_dict['18-24'] + business_only_age_dict['25-34'] + \\\n",
    "                    business_only_age_dict['35-44'] + business_only_age_dict['45-54'] + \\\n",
    "                    business_only_age_dict['55-64'] + business_only_age_dict['65Over'])  \n",
    "avg_age_business"
   ]
  },
  {
   "cell_type": "code",
   "execution_count": 72,
   "metadata": {},
   "outputs": [
    {
     "data": {
      "text/plain": [
       "42.441710505140364"
      ]
     },
     "execution_count": 72,
     "metadata": {},
     "output_type": "execute_result"
    }
   ],
   "source": [
    "avg_age_nonbusiness = (9*nonbusiness_only_age_dict['Under18'] + \\\n",
    "                    21*nonbusiness_only_age_dict['18-24'] + 29*nonbusiness_only_age_dict['25-34'] + \\\n",
    "                   39*nonbusiness_only_age_dict['35-44'] + 49*nonbusiness_only_age_dict['45-54'] + \\\n",
    "                   59*nonbusiness_only_age_dict['55-64'] + 69*nonbusiness_only_age_dict['65Over'])/ \\\n",
    "                   (nonbusiness_only_age_dict['Under18'] + \\\n",
    "                    nonbusiness_only_age_dict['18-24'] + nonbusiness_only_age_dict['25-34'] + \\\n",
    "                    nonbusiness_only_age_dict['35-44'] + nonbusiness_only_age_dict['45-54'] + \\\n",
    "                    nonbusiness_only_age_dict['55-64'] + nonbusiness_only_age_dict['65Over'])  \n",
    "avg_age_nonbusiness"
   ]
  },
  {
   "cell_type": "code",
   "execution_count": 73,
   "metadata": {},
   "outputs": [],
   "source": [
    "#making array of business and non-business ages to do t-test\n",
    "business_ages = np.concatenate((21*np.ones(round(business_only_age_dict['18-24'])),\n",
    "                                  29*np.ones(round(business_only_age_dict['25-34'])),\n",
    "                                  39*np.ones(round(business_only_age_dict['35-44'])),\n",
    "                                  49*np.ones(round(business_only_age_dict['45-54'])),\n",
    "                                  59*np.ones(round(business_only_age_dict['55-64'])),\n",
    "                                  69*np.ones(round(business_only_age_dict['65Over']))))\n",
    "\n",
    "nonbusiness_ages = np.concatenate((9*np.ones(round(nonbusiness_only_age_dict['Under18'])),\n",
    "                                  21*np.ones(round(nonbusiness_only_age_dict['18-24'])),\n",
    "                                  29*np.ones(round(nonbusiness_only_age_dict['25-34'])),\n",
    "                                  39*np.ones(round(nonbusiness_only_age_dict['35-44'])),\n",
    "                                  49*np.ones(round(nonbusiness_only_age_dict['45-54'])),\n",
    "                                  59*np.ones(round(nonbusiness_only_age_dict['55-64'])),\n",
    "                                  69*np.ones(round(nonbusiness_only_age_dict['65Over']))))"
   ]
  },
  {
   "cell_type": "code",
   "execution_count": 74,
   "metadata": {},
   "outputs": [
    {
     "data": {
      "text/plain": [
       "Ttest_indResult(statistic=0.6076590267235548, pvalue=0.5434641481699019)"
      ]
     },
     "execution_count": 74,
     "metadata": {},
     "output_type": "execute_result"
    }
   ],
   "source": [
    "stats.ttest_ind(business_ages,nonbusiness_ages)"
   ]
  },
  {
   "cell_type": "markdown",
   "metadata": {},
   "source": [
    "There is not a significant difference between the average ages for business and non-business travelers."
   ]
  },
  {
   "cell_type": "code",
   "execution_count": 75,
   "metadata": {},
   "outputs": [
    {
     "data": {
      "text/plain": [
       "{'Male': 481.3408424816991, 'Female': 282.4862067161003, 'Other': 2.9375378724}"
      ]
     },
     "execution_count": 75,
     "metadata": {},
     "output_type": "execute_result"
    }
   ],
   "source": [
    "business_only_gender_dict = weighted_dict('Gender', business_only)\n",
    "business_only_gender_dict"
   ]
  },
  {
   "cell_type": "code",
   "execution_count": 76,
   "metadata": {},
   "outputs": [
    {
     "data": {
      "text/plain": [
       "{'Female': 1076.2136135296953,\n",
       " 'Male': 811.0233521554956,\n",
       " 'Other': 8.1481378539,\n",
       " 'Blank/Multiple responses': 1.6671980039}"
      ]
     },
     "execution_count": 76,
     "metadata": {},
     "output_type": "execute_result"
    }
   ],
   "source": [
    "nonbusiness_only_gender_dict = weighted_dict('Gender', nonbusiness_only)\n",
    "nonbusiness_only_gender_dict"
   ]
  },
  {
   "cell_type": "code",
   "execution_count": 77,
   "metadata": {},
   "outputs": [
    {
     "data": {
      "image/png": "[encoded data removed]",
      "text/plain": [
       "<Figure size 432x288 with 1 Axes>"
      ]
     },
     "metadata": {
      "needs_background": "light"
     },
     "output_type": "display_data"
    }
   ],
   "source": [
    "# set width of bar\n",
    "barWidth = 0.25\n",
    " \n",
    "# set height of bar\n",
    "bars1 = [business_only_gender_dict['Male'], business_only_gender_dict['Female']]\n",
    "bars2 = [nonbusiness_only_gender_dict['Male'], nonbusiness_only_gender_dict['Female']]\n",
    " \n",
    "# Set position of bar on X axis\n",
    "r1 = np.arange(len(bars1))\n",
    "r2 = [x + barWidth for x in r1]\n",
    " \n",
    "# Make the plot\n",
    "plt.bar(r1, bars1, color='#b5ffb9', width=barWidth, edgecolor='white', label='var1')\n",
    "plt.bar(r2, bars2, color='#f9bc86', width=barWidth, edgecolor='white', label='var2')\n",
    " \n",
    "# Add xticks on the middle of the group bars\n",
    "plt.xticks([r + barWidth for r in range(len(bars1))], ['Male', 'Female'])\n",
    "plt.ylabel('Count')\n",
    " \n",
    "# Create legend & Show graphic\n",
    "plt.legend(['Business', 'Non-business'])\n",
    "plt.title('Gender of traveler')\n",
    "plt.show()"
   ]
  },
  {
   "cell_type": "markdown",
   "metadata": {},
   "source": [
    "Business travelers are mostly male, and non-business travelers are mostly female."
   ]
  },
  {
   "cell_type": "code",
   "execution_count": 78,
   "metadata": {},
   "outputs": [
    {
     "data": {
      "text/plain": [
       "(0.6277557031172999, 0.4275176554151089, 9.362386965679233)"
      ]
     },
     "execution_count": 78,
     "metadata": {},
     "output_type": "execute_result"
    }
   ],
   "source": [
    "hypothesis_test('Gender','Male')"
   ]
  },
  {
   "cell_type": "markdown",
   "metadata": {},
   "source": [
    "The proportion of business travelers who are male is 0.63, the proportion of non-business travelers who are male is 0.43, and the z-score for this is 9.36 (highly significant)."
   ]
  },
  {
   "cell_type": "code",
   "execution_count": 79,
   "metadata": {},
   "outputs": [
    {
     "data": {
      "text/plain": [
       "{'Over $150,000': 351.0074937838998,\n",
       " '$100,000-$150,000': 175.2855024510002,\n",
       " '$50,000 - $100,000': 141.5360586098,\n",
       " 'Blank/Multiple responses': 96.32334083760009,\n",
       " 'Under $50,000': 43.82938841669998}"
      ]
     },
     "execution_count": 79,
     "metadata": {},
     "output_type": "execute_result"
    }
   ],
   "source": [
    "business_only_income_dict = weighted_dict('Income', business_only)\n",
    "business_only_income_dict\n",
    "#maybe drop this one\n",
    "#business travelers have higher household income than non-business travelers"
   ]
  },
  {
   "cell_type": "code",
   "execution_count": 80,
   "metadata": {},
   "outputs": [
    {
     "data": {
      "text/plain": [
       "{'$50,000 - $100,000': 521.2163859710982,\n",
       " 'Blank/Multiple responses': 415.092167760299,\n",
       " 'Under $50,000': 380.90472549209943,\n",
       " 'Over $150,000': 365.8171408571995,\n",
       " '$100,000-$150,000': 339.98779581719964}"
      ]
     },
     "execution_count": 80,
     "metadata": {},
     "output_type": "execute_result"
    }
   ],
   "source": [
    "nonbusiness_only_income_dict = weighted_dict('Income', nonbusiness_only)\n",
    "nonbusiness_only_income_dict"
   ]
  },
  {
   "cell_type": "code",
   "execution_count": 81,
   "metadata": {},
   "outputs": [],
   "source": [
    "r = [0,1,2,3]\n",
    "raw_data_income = {'Business':[business_only_income_dict['Under $50,000'], \n",
    "                               business_only_income_dict['$50,000 - $100,000'], \n",
    "                               business_only_income_dict['$100,000-$150,000'],\n",
    "                               business_only_income_dict['Over $150,000']],   \n",
    "                   'Non-business':\n",
    "                               [nonbusiness_only_income_dict['Under $50,000'], \n",
    "                               nonbusiness_only_income_dict['$50,000 - $100,000'], \n",
    "                               nonbusiness_only_income_dict['$100,000-$150,000'],\n",
    "                               nonbusiness_only_income_dict['Over $150,000']]}\n",
    "df_income = pd.DataFrame(raw_data_income)\n",
    "totals = [i+j for i,j in zip(df_income['Business'], df_income['Non-business'])]\n",
    "business_income = [i/j*100 for i,j in zip(df_income['Business'], totals)]\n",
    "nonbusiness_income = [i/j*100 for i,j in zip(df_income['Non-business'], totals)]"
   ]
  },
  {
   "cell_type": "code",
   "execution_count": 82,
   "metadata": {},
   "outputs": [
    {
     "data": {
      "image/png": "[encoded data removed]",
      "text/plain": [
       "<Figure size 432x288 with 1 Axes>"
      ]
     },
     "metadata": {
      "needs_background": "light"
     },
     "output_type": "display_data"
    }
   ],
   "source": [
    "# plot\n",
    "barWidth = 0.85\n",
    "names = ('Under \\$50k','\\$50k - \\$100k', '\\$100k-\\$150k', 'Over \\$150k')\n",
    "# Create business_bags Bars\n",
    "plt.bar(r, business_income, color='#b5ffb9', edgecolor='white', width=barWidth)\n",
    "# Create nonbusiness_bags Bars\n",
    "plt.bar(r, nonbusiness_income, bottom=business_income, color='#f9bc86', edgecolor='white', width=barWidth)\n",
    "plt.xticks(r, names, rotation='vertical')\n",
    "plt.ylabel('Percentage')\n",
    "plt.legend(['Business', 'Non-business'])\n",
    "plt.title('Income of traveler')\n",
    "plt.show()"
   ]
  },
  {
   "cell_type": "markdown",
   "metadata": {},
   "source": [
    "The proportion of business travelers at each income level increases as income level increases."
   ]
  },
  {
   "cell_type": "markdown",
   "metadata": {},
   "source": [
    "Calculating average values from income data: https://www.displayr.com/how-to-calculate-an-average-value-from-categorical-data/\n",
    "Taking midpoints (for top value, taking half of previous range and adding it)"
   ]
  },
  {
   "cell_type": "code",
   "execution_count": 83,
   "metadata": {},
   "outputs": [
    {
     "data": {
      "text/plain": [
       "133558.36528703675"
      ]
     },
     "execution_count": 83,
     "metadata": {},
     "output_type": "execute_result"
    }
   ],
   "source": [
    "#Average income, business-only:\n",
    "avg_income_business = (25000*business_only_income_dict['Under $50,000'] + \n",
    "                      75000*business_only_income_dict['$50,000 - $100,000'] +\n",
    "                      125000*business_only_income_dict['$100,000-$150,000'] +\n",
    "                      175000*business_only_income_dict['Over $150,000']) / \\\n",
    "                      (business_only_income_dict['Under $50,000'] + \n",
    "                       business_only_income_dict['$50,000 - $100,000'] + \n",
    "                      business_only_income_dict['$100,000-$150,000'] + \n",
    "                      business_only_income_dict['Over $150,000'])\n",
    "avg_income_business"
   ]
  },
  {
   "cell_type": "code",
   "execution_count": 84,
   "metadata": {},
   "outputs": [
    {
     "data": {
      "text/plain": [
       "96478.51739946412"
      ]
     },
     "execution_count": 84,
     "metadata": {},
     "output_type": "execute_result"
    }
   ],
   "source": [
    "#Average income, non-business only:\n",
    "avg_income_nonbusiness = (25000*nonbusiness_only_income_dict['Under $50,000'] + \n",
    "                      75000*nonbusiness_only_income_dict['$50,000 - $100,000'] +\n",
    "                      125000*nonbusiness_only_income_dict['$100,000-$150,000'] +\n",
    "                      175000*nonbusiness_only_income_dict['Over $150,000']) / \\\n",
    "                      (nonbusiness_only_income_dict['Under $50,000'] + \n",
    "                       nonbusiness_only_income_dict['$50,000 - $100,000'] + \n",
    "                      nonbusiness_only_income_dict['$100,000-$150,000'] + \n",
    "                      nonbusiness_only_income_dict['Over $150,000'])\n",
    "avg_income_nonbusiness"
   ]
  },
  {
   "cell_type": "code",
   "execution_count": 85,
   "metadata": {},
   "outputs": [],
   "source": [
    "#making array of business and non-business incomes to do t-test\n",
    "business_incomes = np.concatenate((25000*np.ones(round(business_only_income_dict['Under $50,000'])),\n",
    "                                  75000*np.ones(round(business_only_income_dict['$50,000 - $100,000'])),\n",
    "                                  125000*np.ones(round(business_only_income_dict['$100,000-$150,000'])),\n",
    "                                  175000*np.ones(round(business_only_income_dict['Over $150,000']))))\n",
    "\n",
    "nonbusiness_incomes = np.concatenate((25000*np.ones(round(nonbusiness_only_income_dict['Under $50,000'])),\n",
    "                                  75000*np.ones(round(nonbusiness_only_income_dict['$50,000 - $100,000'])),\n",
    "                                  125000*np.ones(round(nonbusiness_only_income_dict['$100,000-$150,000'])),\n",
    "                                  175000*np.ones(round(nonbusiness_only_income_dict['Over $150,000']))))"
   ]
  },
  {
   "cell_type": "code",
   "execution_count": 86,
   "metadata": {},
   "outputs": [
    {
     "data": {
      "text/plain": [
       "Ttest_indResult(statistic=15.719473004440058, pvalue=5.494593307365782e-53)"
      ]
     },
     "execution_count": 86,
     "metadata": {},
     "output_type": "execute_result"
    }
   ],
   "source": [
    "stats.ttest_ind(business_incomes,nonbusiness_incomes)"
   ]
  },
  {
   "cell_type": "markdown",
   "metadata": {},
   "source": [
    "The average business income and average non-business income are highly significantly different."
   ]
  }
 ],
 "metadata": {
  "kernelspec": {
   "display_name": "Python 3",
   "language": "python",
   "name": "python3"
  },
  "language_info": {
   "codemirror_mode": {
    "name": "ipython",
    "version": 3
   },
   "file_extension": ".py",
   "mimetype": "text/x-python",
   "name": "python",
   "nbconvert_exporter": "python",
   "pygments_lexer": "ipython3",
   "version": "3.7.3"
  }
 },
 "nbformat": 4,
 "nbformat_minor": 2
}
