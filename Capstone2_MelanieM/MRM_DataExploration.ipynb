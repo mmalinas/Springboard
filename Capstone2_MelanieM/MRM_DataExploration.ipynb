{
 "cells": [
  {
   "cell_type": "code",
   "execution_count": 1,
   "metadata": {},
   "outputs": [],
   "source": [
    "from os.path import isfile\n",
    "import praw"
   ]
  },
  {
   "cell_type": "code",
   "execution_count": 2,
   "metadata": {},
   "outputs": [
    {
     "data": {
      "text/plain": [
       "0    Louisiana eye doctor offers free eye exams for...\n",
       "1    Man rescued from Taliban didn't believe Donald...\n",
       "2    Nat Geo hires Jeff Goldblum to walk around, be...\n",
       "3    Black security guard who stops shooter is then...\n",
       "4         Hunter dies after shot elephant falls on him\n",
       "Name: title, dtype: object"
      ]
     },
     "execution_count": 2,
     "metadata": {},
     "output_type": "execute_result"
    }
   ],
   "source": [
    "import pandas as pd\n",
    "posts_nottheonion = []\n",
    "reddit = praw.Reddit('reddit app')\n",
    "nottheonion_subreddit = reddit.subreddit('nottheonion')\n",
    "for post in nottheonion_subreddit.top(time_filter='all',limit=1000):\n",
    "    posts_nottheonion.append([post.title, post.score, post.id, post.subreddit, post.url, post.num_comments, \n",
    "                              post.selftext, post.created])\n",
    "posts_nottheonion = pd.DataFrame(posts_nottheonion,columns=['title', 'score', 'id', 'subreddit', 'url', \n",
    "                                                            'num_comments', 'body', 'created'])\n",
    "posts_nottheonion['title'].head()"
   ]
  },
  {
   "cell_type": "code",
   "execution_count": 3,
   "metadata": {},
   "outputs": [
    {
     "data": {
      "text/plain": [
       "0    'No Way To Prevent This,’ Says Only Nation Whe...\n",
       "1    Trump Warns Removing Confederate Statues Could...\n",
       "2    ‘No Way To Prevent This,’ Says Only Nation Whe...\n",
       "3    Roy Moore Retires From Politics To Spend More ...\n",
       "4    Mike Pence Disappointed In The 200,000 Husband...\n",
       "Name: title, dtype: object"
      ]
     },
     "execution_count": 3,
     "metadata": {},
     "output_type": "execute_result"
    }
   ],
   "source": [
    "onion_subreddit = reddit.subreddit('TheOnion')\n",
    "posts_onion= []\n",
    "for post in onion_subreddit.top(time_filter='all',limit=1000):\n",
    "    posts_onion.append([post.title, post.score, post.id, post.subreddit, post.url, post.num_comments, \n",
    "                              post.selftext, post.created])\n",
    "posts_onion = pd.DataFrame(posts_onion,columns = ['title', 'score', 'id', 'subreddit', 'url', 'num_comments', \n",
    "                                                 'body', 'created'])\n",
    "posts_onion['title'].head()"
   ]
  },
  {
   "cell_type": "code",
   "execution_count": 4,
   "metadata": {},
   "outputs": [
    {
     "data": {
      "text/html": [
       "<div>\n",
       "<style scoped>\n",
       "    .dataframe tbody tr th:only-of-type {\n",
       "        vertical-align: middle;\n",
       "    }\n",
       "\n",
       "    .dataframe tbody tr th {\n",
       "        vertical-align: top;\n",
       "    }\n",
       "\n",
       "    .dataframe thead th {\n",
       "        text-align: right;\n",
       "    }\n",
       "</style>\n",
       "<table border=\"1\" class=\"dataframe\">\n",
       "  <thead>\n",
       "    <tr style=\"text-align: right;\">\n",
       "      <th></th>\n",
       "      <th>title</th>\n",
       "      <th>score</th>\n",
       "      <th>id</th>\n",
       "      <th>subreddit</th>\n",
       "      <th>url</th>\n",
       "      <th>num_comments</th>\n",
       "      <th>body</th>\n",
       "      <th>created</th>\n",
       "    </tr>\n",
       "  </thead>\n",
       "  <tbody>\n",
       "    <tr>\n",
       "      <th>0</th>\n",
       "      <td>'No Way To Prevent This,’ Says Only Nation Whe...</td>\n",
       "      <td>34982</td>\n",
       "      <td>7b0y34</td>\n",
       "      <td>TheOnion</td>\n",
       "      <td>https://www.theonion.com/no-way-to-prevent-thi...</td>\n",
       "      <td>3043</td>\n",
       "      <td></td>\n",
       "      <td>1.509951e+09</td>\n",
       "    </tr>\n",
       "    <tr>\n",
       "      <th>1</th>\n",
       "      <td>Trump Warns Removing Confederate Statues Could...</td>\n",
       "      <td>27422</td>\n",
       "      <td>7to2ak</td>\n",
       "      <td>TheOnion</td>\n",
       "      <td>https://politics.theonion.com/trump-warns-remo...</td>\n",
       "      <td>1882</td>\n",
       "      <td></td>\n",
       "      <td>1.517211e+09</td>\n",
       "    </tr>\n",
       "    <tr>\n",
       "      <th>2</th>\n",
       "      <td>‘No Way To Prevent This,’ Says Only Nation Whe...</td>\n",
       "      <td>21128</td>\n",
       "      <td>7xl7h3</td>\n",
       "      <td>TheOnion</td>\n",
       "      <td>https://www.theonion.com/no-way-to-prevent-thi...</td>\n",
       "      <td>1200</td>\n",
       "      <td></td>\n",
       "      <td>1.518670e+09</td>\n",
       "    </tr>\n",
       "    <tr>\n",
       "      <th>3</th>\n",
       "      <td>Roy Moore Retires From Politics To Spend More ...</td>\n",
       "      <td>18072</td>\n",
       "      <td>7jgh6i</td>\n",
       "      <td>TheOnion</td>\n",
       "      <td>https://politics.theonion.com/roy-moore-retire...</td>\n",
       "      <td>126</td>\n",
       "      <td></td>\n",
       "      <td>1.513165e+09</td>\n",
       "    </tr>\n",
       "    <tr>\n",
       "      <th>4</th>\n",
       "      <td>Mike Pence Disappointed In The 200,000 Husband...</td>\n",
       "      <td>16748</td>\n",
       "      <td>5pbaag</td>\n",
       "      <td>TheOnion</td>\n",
       "      <td>http://www.theonion.com/article/mike-pence-dis...</td>\n",
       "      <td>332</td>\n",
       "      <td></td>\n",
       "      <td>1.485044e+09</td>\n",
       "    </tr>\n",
       "  </tbody>\n",
       "</table>\n",
       "</div>"
      ],
      "text/plain": [
       "                                               title  score      id subreddit  \\\n",
       "0  'No Way To Prevent This,’ Says Only Nation Whe...  34982  7b0y34  TheOnion   \n",
       "1  Trump Warns Removing Confederate Statues Could...  27422  7to2ak  TheOnion   \n",
       "2  ‘No Way To Prevent This,’ Says Only Nation Whe...  21128  7xl7h3  TheOnion   \n",
       "3  Roy Moore Retires From Politics To Spend More ...  18072  7jgh6i  TheOnion   \n",
       "4  Mike Pence Disappointed In The 200,000 Husband...  16748  5pbaag  TheOnion   \n",
       "\n",
       "                                                 url  num_comments body  \\\n",
       "0  https://www.theonion.com/no-way-to-prevent-thi...          3043        \n",
       "1  https://politics.theonion.com/trump-warns-remo...          1882        \n",
       "2  https://www.theonion.com/no-way-to-prevent-thi...          1200        \n",
       "3  https://politics.theonion.com/roy-moore-retire...           126        \n",
       "4  http://www.theonion.com/article/mike-pence-dis...           332        \n",
       "\n",
       "        created  \n",
       "0  1.509951e+09  \n",
       "1  1.517211e+09  \n",
       "2  1.518670e+09  \n",
       "3  1.513165e+09  \n",
       "4  1.485044e+09  "
      ]
     },
     "execution_count": 4,
     "metadata": {},
     "output_type": "execute_result"
    }
   ],
   "source": [
    "posts_onion.head()"
   ]
  },
  {
   "cell_type": "code",
   "execution_count": 5,
   "metadata": {},
   "outputs": [
    {
     "data": {
      "text/plain": [
       "'Mike Pence Disappointed In The 200,000 Husbands And Fathers Who Permitted Women To Attend March'"
      ]
     },
     "execution_count": 5,
     "metadata": {},
     "output_type": "execute_result"
    }
   ],
   "source": [
    "posts_onion['title'][4]"
   ]
  },
  {
   "cell_type": "code",
   "execution_count": 6,
   "metadata": {},
   "outputs": [
    {
     "data": {
      "text/plain": [
       "0           Scientist Stephen Hawking has died aged 76\n",
       "1       F.C.C. Announces Plan to Repeal Net Neutrality\n",
       "2    Jeffrey Epstein, accused sex trafficker, dies ...\n",
       "3                  Report: Stan Lee dead at 95 - Story\n",
       "4    Arizona Senator John McCain has passed away at...\n",
       "Name: title, dtype: object"
      ]
     },
     "execution_count": 6,
     "metadata": {},
     "output_type": "execute_result"
    }
   ],
   "source": [
    "news_subreddit = reddit.subreddit('news')\n",
    "posts_news = []\n",
    "for post in news_subreddit.top(time_filter='all',limit=1000):\n",
    "    posts_news.append([post.title, post.score, post.id, post.subreddit, post.url, post.num_comments, \n",
    "                              post.selftext, post.created])\n",
    "posts_news = pd.DataFrame(posts_news,columns = ['title', 'score', 'id', 'subreddit', 'url', 'num_comments', \n",
    "                                                 'body', 'created'])\n",
    "posts_news['title'].head()"
   ]
  },
  {
   "cell_type": "code",
   "execution_count": 7,
   "metadata": {},
   "outputs": [],
   "source": [
    "#test addition"
   ]
  }
 ],
 "metadata": {
  "kernelspec": {
   "display_name": "Python 3",
   "language": "python",
   "name": "python3"
  },
  "language_info": {
   "codemirror_mode": {
    "name": "ipython",
    "version": 3
   },
   "file_extension": ".py",
   "mimetype": "text/x-python",
   "name": "python",
   "nbconvert_exporter": "python",
   "pygments_lexer": "ipython3",
   "version": "3.7.3"
  }
 },
 "nbformat": 4,
 "nbformat_minor": 2
}
