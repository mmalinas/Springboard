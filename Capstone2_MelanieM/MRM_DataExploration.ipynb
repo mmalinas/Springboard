{
 "cells": [
  {
   "cell_type": "code",
   "execution_count": 1,
   "metadata": {},
   "outputs": [],
   "source": [
    "from os.path import isfile\n",
    "import praw"
   ]
  },
  {
   "cell_type": "code",
   "execution_count": 2,
   "metadata": {},
   "outputs": [
    {
     "data": {
      "text/plain": [
       "0    Louisiana eye doctor offers free eye exams for...\n",
       "1    Man rescued from Taliban didn't believe Donald...\n",
       "2    Nat Geo hires Jeff Goldblum to walk around, be...\n",
       "3    Black security guard who stops shooter is then...\n",
       "4         Hunter dies after shot elephant falls on him\n",
       "Name: title, dtype: object"
      ]
     },
     "execution_count": 2,
     "metadata": {},
     "output_type": "execute_result"
    }
   ],
   "source": [
    "import pandas as pd\n",
    "posts_nottheonion = []\n",
    "reddit = praw.Reddit('reddit app')\n",
    "nottheonion_subreddit = reddit.subreddit('nottheonion')\n",
    "for post in nottheonion_subreddit.top(time_filter='all',limit=3000):\n",
    "    posts_nottheonion.append([post.title, post.score, post.id, post.subreddit, post.url, post.num_comments, \n",
    "                              post.selftext, post.created])\n",
    "posts_nottheonion = pd.DataFrame(posts_nottheonion,columns=['title', 'score', 'id', 'subreddit', 'url', \n",
    "                                                            'num_comments', 'body', 'created'])\n",
    "posts_nottheonion['title'].head()"
   ]
  },
  {
   "cell_type": "code",
   "execution_count": 3,
   "metadata": {},
   "outputs": [
    {
     "data": {
      "text/plain": [
       "0    'No Way To Prevent This,’ Says Only Nation Whe...\n",
       "1    Trump Warns Removing Confederate Statues Could...\n",
       "2    ‘No Way To Prevent This,’ Says Only Nation Whe...\n",
       "3    Roy Moore Retires From Politics To Spend More ...\n",
       "4    Mike Pence Disappointed In The 200,000 Husband...\n",
       "Name: title, dtype: object"
      ]
     },
     "execution_count": 3,
     "metadata": {},
     "output_type": "execute_result"
    }
   ],
   "source": [
    "onion_subreddit = reddit.subreddit('TheOnion')\n",
    "posts_onion= []\n",
    "for post in onion_subreddit.top(time_filter='all',limit=3000):\n",
    "    posts_onion.append([post.title, post.score, post.id, post.subreddit, post.url, post.num_comments, \n",
    "                              post.selftext, post.created])\n",
    "posts_onion = pd.DataFrame(posts_onion,columns = ['title', 'score', 'id', 'subreddit', 'url', 'num_comments', \n",
    "                                                 'body', 'created'])\n",
    "posts_onion['title'].head()"
   ]
  },
  {
   "cell_type": "code",
   "execution_count": 4,
   "metadata": {},
   "outputs": [
    {
     "data": {
      "text/html": [
       "<div>\n",
       "<style scoped>\n",
       "    .dataframe tbody tr th:only-of-type {\n",
       "        vertical-align: middle;\n",
       "    }\n",
       "\n",
       "    .dataframe tbody tr th {\n",
       "        vertical-align: top;\n",
       "    }\n",
       "\n",
       "    .dataframe thead th {\n",
       "        text-align: right;\n",
       "    }\n",
       "</style>\n",
       "<table border=\"1\" class=\"dataframe\">\n",
       "  <thead>\n",
       "    <tr style=\"text-align: right;\">\n",
       "      <th></th>\n",
       "      <th>title</th>\n",
       "      <th>score</th>\n",
       "      <th>id</th>\n",
       "      <th>subreddit</th>\n",
       "      <th>url</th>\n",
       "      <th>num_comments</th>\n",
       "      <th>body</th>\n",
       "      <th>created</th>\n",
       "    </tr>\n",
       "  </thead>\n",
       "  <tbody>\n",
       "    <tr>\n",
       "      <th>0</th>\n",
       "      <td>'No Way To Prevent This,’ Says Only Nation Whe...</td>\n",
       "      <td>34987</td>\n",
       "      <td>7b0y34</td>\n",
       "      <td>TheOnion</td>\n",
       "      <td>https://www.theonion.com/no-way-to-prevent-thi...</td>\n",
       "      <td>3043</td>\n",
       "      <td></td>\n",
       "      <td>1.509951e+09</td>\n",
       "    </tr>\n",
       "    <tr>\n",
       "      <th>1</th>\n",
       "      <td>Trump Warns Removing Confederate Statues Could...</td>\n",
       "      <td>27432</td>\n",
       "      <td>7to2ak</td>\n",
       "      <td>TheOnion</td>\n",
       "      <td>https://politics.theonion.com/trump-warns-remo...</td>\n",
       "      <td>1882</td>\n",
       "      <td></td>\n",
       "      <td>1.517211e+09</td>\n",
       "    </tr>\n",
       "    <tr>\n",
       "      <th>2</th>\n",
       "      <td>‘No Way To Prevent This,’ Says Only Nation Whe...</td>\n",
       "      <td>21129</td>\n",
       "      <td>7xl7h3</td>\n",
       "      <td>TheOnion</td>\n",
       "      <td>https://www.theonion.com/no-way-to-prevent-thi...</td>\n",
       "      <td>1200</td>\n",
       "      <td></td>\n",
       "      <td>1.518670e+09</td>\n",
       "    </tr>\n",
       "    <tr>\n",
       "      <th>3</th>\n",
       "      <td>Roy Moore Retires From Politics To Spend More ...</td>\n",
       "      <td>18075</td>\n",
       "      <td>7jgh6i</td>\n",
       "      <td>TheOnion</td>\n",
       "      <td>https://politics.theonion.com/roy-moore-retire...</td>\n",
       "      <td>126</td>\n",
       "      <td></td>\n",
       "      <td>1.513165e+09</td>\n",
       "    </tr>\n",
       "    <tr>\n",
       "      <th>4</th>\n",
       "      <td>Mike Pence Disappointed In The 200,000 Husband...</td>\n",
       "      <td>16749</td>\n",
       "      <td>5pbaag</td>\n",
       "      <td>TheOnion</td>\n",
       "      <td>http://www.theonion.com/article/mike-pence-dis...</td>\n",
       "      <td>332</td>\n",
       "      <td></td>\n",
       "      <td>1.485044e+09</td>\n",
       "    </tr>\n",
       "  </tbody>\n",
       "</table>\n",
       "</div>"
      ],
      "text/plain": [
       "                                               title  score      id subreddit  \\\n",
       "0  'No Way To Prevent This,’ Says Only Nation Whe...  34987  7b0y34  TheOnion   \n",
       "1  Trump Warns Removing Confederate Statues Could...  27432  7to2ak  TheOnion   \n",
       "2  ‘No Way To Prevent This,’ Says Only Nation Whe...  21129  7xl7h3  TheOnion   \n",
       "3  Roy Moore Retires From Politics To Spend More ...  18075  7jgh6i  TheOnion   \n",
       "4  Mike Pence Disappointed In The 200,000 Husband...  16749  5pbaag  TheOnion   \n",
       "\n",
       "                                                 url  num_comments body  \\\n",
       "0  https://www.theonion.com/no-way-to-prevent-thi...          3043        \n",
       "1  https://politics.theonion.com/trump-warns-remo...          1882        \n",
       "2  https://www.theonion.com/no-way-to-prevent-thi...          1200        \n",
       "3  https://politics.theonion.com/roy-moore-retire...           126        \n",
       "4  http://www.theonion.com/article/mike-pence-dis...           332        \n",
       "\n",
       "        created  \n",
       "0  1.509951e+09  \n",
       "1  1.517211e+09  \n",
       "2  1.518670e+09  \n",
       "3  1.513165e+09  \n",
       "4  1.485044e+09  "
      ]
     },
     "execution_count": 4,
     "metadata": {},
     "output_type": "execute_result"
    }
   ],
   "source": [
    "posts_onion.head()"
   ]
  },
  {
   "cell_type": "code",
   "execution_count": 5,
   "metadata": {},
   "outputs": [
    {
     "data": {
      "text/plain": [
       "'Mike Pence Disappointed In The 200,000 Husbands And Fathers Who Permitted Women To Attend March'"
      ]
     },
     "execution_count": 5,
     "metadata": {},
     "output_type": "execute_result"
    }
   ],
   "source": [
    "posts_onion['title'][4]"
   ]
  },
  {
   "cell_type": "code",
   "execution_count": 6,
   "metadata": {},
   "outputs": [
    {
     "data": {
      "text/plain": [
       "0           Scientist Stephen Hawking has died aged 76\n",
       "1       F.C.C. Announces Plan to Repeal Net Neutrality\n",
       "2    Jeffrey Epstein, accused sex trafficker, dies ...\n",
       "3                  Report: Stan Lee dead at 95 - Story\n",
       "4    Arizona Senator John McCain has passed away at...\n",
       "Name: title, dtype: object"
      ]
     },
     "execution_count": 6,
     "metadata": {},
     "output_type": "execute_result"
    }
   ],
   "source": [
    "news_subreddit = reddit.subreddit('news')\n",
    "posts_news = []\n",
    "for post in news_subreddit.top(time_filter='all',limit=1000):\n",
    "    posts_news.append([post.title, post.score, post.id, post.subreddit, post.url, post.num_comments, \n",
    "                              post.selftext, post.created])\n",
    "posts_news = pd.DataFrame(posts_news,columns = ['title', 'score', 'id', 'subreddit', 'url', 'num_comments', \n",
    "                                                 'body', 'created'])\n",
    "posts_news['title'].head()"
   ]
  },
  {
   "cell_type": "markdown",
   "metadata": {},
   "source": [
    "Making nottheonion have a column of 0s and Onion have a column of 1s"
   ]
  },
  {
   "cell_type": "code",
   "execution_count": 7,
   "metadata": {},
   "outputs": [
    {
     "data": {
      "text/html": [
       "<div>\n",
       "<style scoped>\n",
       "    .dataframe tbody tr th:only-of-type {\n",
       "        vertical-align: middle;\n",
       "    }\n",
       "\n",
       "    .dataframe tbody tr th {\n",
       "        vertical-align: top;\n",
       "    }\n",
       "\n",
       "    .dataframe thead th {\n",
       "        text-align: right;\n",
       "    }\n",
       "</style>\n",
       "<table border=\"1\" class=\"dataframe\">\n",
       "  <thead>\n",
       "    <tr style=\"text-align: right;\">\n",
       "      <th></th>\n",
       "      <th>title</th>\n",
       "      <th>score</th>\n",
       "      <th>id</th>\n",
       "      <th>subreddit</th>\n",
       "      <th>url</th>\n",
       "      <th>num_comments</th>\n",
       "      <th>body</th>\n",
       "      <th>created</th>\n",
       "      <th>Onion?</th>\n",
       "    </tr>\n",
       "  </thead>\n",
       "  <tbody>\n",
       "    <tr>\n",
       "      <th>0</th>\n",
       "      <td>Louisiana eye doctor offers free eye exams for...</td>\n",
       "      <td>114314</td>\n",
       "      <td>aic7pm</td>\n",
       "      <td>nottheonion</td>\n",
       "      <td>https://www.wwltv.com/article/sports/nfl/saint...</td>\n",
       "      <td>2103</td>\n",
       "      <td></td>\n",
       "      <td>1.548120e+09</td>\n",
       "      <td>0</td>\n",
       "    </tr>\n",
       "    <tr>\n",
       "      <th>1</th>\n",
       "      <td>Man rescued from Taliban didn't believe Donald...</td>\n",
       "      <td>103950</td>\n",
       "      <td>76rjtv</td>\n",
       "      <td>nottheonion</td>\n",
       "      <td>http://www.newsweek.com/man-rescued-taliban-di...</td>\n",
       "      <td>5289</td>\n",
       "      <td></td>\n",
       "      <td>1.508199e+09</td>\n",
       "      <td>0</td>\n",
       "    </tr>\n",
       "    <tr>\n",
       "      <th>2</th>\n",
       "      <td>Nat Geo hires Jeff Goldblum to walk around, be...</td>\n",
       "      <td>100832</td>\n",
       "      <td>923ww4</td>\n",
       "      <td>nottheonion</td>\n",
       "      <td>https://news.avclub.com/nat-geo-hires-jeff-gol...</td>\n",
       "      <td>1538</td>\n",
       "      <td></td>\n",
       "      <td>1.532652e+09</td>\n",
       "      <td>0</td>\n",
       "    </tr>\n",
       "    <tr>\n",
       "      <th>3</th>\n",
       "      <td>Black security guard who stops shooter is then...</td>\n",
       "      <td>100023</td>\n",
       "      <td>9wl2d7</td>\n",
       "      <td>nottheonion</td>\n",
       "      <td>https://thehill.com/homenews/news/416255-black...</td>\n",
       "      <td>2399</td>\n",
       "      <td></td>\n",
       "      <td>1.542106e+09</td>\n",
       "      <td>0</td>\n",
       "    </tr>\n",
       "    <tr>\n",
       "      <th>4</th>\n",
       "      <td>Hunter dies after shot elephant falls on him</td>\n",
       "      <td>95385</td>\n",
       "      <td>6cgr3h</td>\n",
       "      <td>nottheonion</td>\n",
       "      <td>http://www.news24.com/SouthAfrica/News/hunter-...</td>\n",
       "      <td>1712</td>\n",
       "      <td></td>\n",
       "      <td>1.495405e+09</td>\n",
       "      <td>0</td>\n",
       "    </tr>\n",
       "  </tbody>\n",
       "</table>\n",
       "</div>"
      ],
      "text/plain": [
       "                                               title   score      id  \\\n",
       "0  Louisiana eye doctor offers free eye exams for...  114314  aic7pm   \n",
       "1  Man rescued from Taliban didn't believe Donald...  103950  76rjtv   \n",
       "2  Nat Geo hires Jeff Goldblum to walk around, be...  100832  923ww4   \n",
       "3  Black security guard who stops shooter is then...  100023  9wl2d7   \n",
       "4       Hunter dies after shot elephant falls on him   95385  6cgr3h   \n",
       "\n",
       "     subreddit                                                url  \\\n",
       "0  nottheonion  https://www.wwltv.com/article/sports/nfl/saint...   \n",
       "1  nottheonion  http://www.newsweek.com/man-rescued-taliban-di...   \n",
       "2  nottheonion  https://news.avclub.com/nat-geo-hires-jeff-gol...   \n",
       "3  nottheonion  https://thehill.com/homenews/news/416255-black...   \n",
       "4  nottheonion  http://www.news24.com/SouthAfrica/News/hunter-...   \n",
       "\n",
       "   num_comments body       created  Onion?  \n",
       "0          2103       1.548120e+09       0  \n",
       "1          5289       1.508199e+09       0  \n",
       "2          1538       1.532652e+09       0  \n",
       "3          2399       1.542106e+09       0  \n",
       "4          1712       1.495405e+09       0  "
      ]
     },
     "execution_count": 7,
     "metadata": {},
     "output_type": "execute_result"
    }
   ],
   "source": [
    "posts_nottheonion['Onion?'] = 0\n",
    "posts_nottheonion.head()"
   ]
  },
  {
   "cell_type": "code",
   "execution_count": 8,
   "metadata": {},
   "outputs": [
    {
     "data": {
      "text/html": [
       "<div>\n",
       "<style scoped>\n",
       "    .dataframe tbody tr th:only-of-type {\n",
       "        vertical-align: middle;\n",
       "    }\n",
       "\n",
       "    .dataframe tbody tr th {\n",
       "        vertical-align: top;\n",
       "    }\n",
       "\n",
       "    .dataframe thead th {\n",
       "        text-align: right;\n",
       "    }\n",
       "</style>\n",
       "<table border=\"1\" class=\"dataframe\">\n",
       "  <thead>\n",
       "    <tr style=\"text-align: right;\">\n",
       "      <th></th>\n",
       "      <th>title</th>\n",
       "      <th>score</th>\n",
       "      <th>id</th>\n",
       "      <th>subreddit</th>\n",
       "      <th>url</th>\n",
       "      <th>num_comments</th>\n",
       "      <th>body</th>\n",
       "      <th>created</th>\n",
       "      <th>Onion?</th>\n",
       "    </tr>\n",
       "  </thead>\n",
       "  <tbody>\n",
       "    <tr>\n",
       "      <th>0</th>\n",
       "      <td>'No Way To Prevent This,’ Says Only Nation Whe...</td>\n",
       "      <td>34987</td>\n",
       "      <td>7b0y34</td>\n",
       "      <td>TheOnion</td>\n",
       "      <td>https://www.theonion.com/no-way-to-prevent-thi...</td>\n",
       "      <td>3043</td>\n",
       "      <td></td>\n",
       "      <td>1.509951e+09</td>\n",
       "      <td>1</td>\n",
       "    </tr>\n",
       "    <tr>\n",
       "      <th>1</th>\n",
       "      <td>Trump Warns Removing Confederate Statues Could...</td>\n",
       "      <td>27432</td>\n",
       "      <td>7to2ak</td>\n",
       "      <td>TheOnion</td>\n",
       "      <td>https://politics.theonion.com/trump-warns-remo...</td>\n",
       "      <td>1882</td>\n",
       "      <td></td>\n",
       "      <td>1.517211e+09</td>\n",
       "      <td>1</td>\n",
       "    </tr>\n",
       "    <tr>\n",
       "      <th>2</th>\n",
       "      <td>‘No Way To Prevent This,’ Says Only Nation Whe...</td>\n",
       "      <td>21129</td>\n",
       "      <td>7xl7h3</td>\n",
       "      <td>TheOnion</td>\n",
       "      <td>https://www.theonion.com/no-way-to-prevent-thi...</td>\n",
       "      <td>1200</td>\n",
       "      <td></td>\n",
       "      <td>1.518670e+09</td>\n",
       "      <td>1</td>\n",
       "    </tr>\n",
       "    <tr>\n",
       "      <th>3</th>\n",
       "      <td>Roy Moore Retires From Politics To Spend More ...</td>\n",
       "      <td>18075</td>\n",
       "      <td>7jgh6i</td>\n",
       "      <td>TheOnion</td>\n",
       "      <td>https://politics.theonion.com/roy-moore-retire...</td>\n",
       "      <td>126</td>\n",
       "      <td></td>\n",
       "      <td>1.513165e+09</td>\n",
       "      <td>1</td>\n",
       "    </tr>\n",
       "    <tr>\n",
       "      <th>4</th>\n",
       "      <td>Mike Pence Disappointed In The 200,000 Husband...</td>\n",
       "      <td>16749</td>\n",
       "      <td>5pbaag</td>\n",
       "      <td>TheOnion</td>\n",
       "      <td>http://www.theonion.com/article/mike-pence-dis...</td>\n",
       "      <td>332</td>\n",
       "      <td></td>\n",
       "      <td>1.485044e+09</td>\n",
       "      <td>1</td>\n",
       "    </tr>\n",
       "  </tbody>\n",
       "</table>\n",
       "</div>"
      ],
      "text/plain": [
       "                                               title  score      id subreddit  \\\n",
       "0  'No Way To Prevent This,’ Says Only Nation Whe...  34987  7b0y34  TheOnion   \n",
       "1  Trump Warns Removing Confederate Statues Could...  27432  7to2ak  TheOnion   \n",
       "2  ‘No Way To Prevent This,’ Says Only Nation Whe...  21129  7xl7h3  TheOnion   \n",
       "3  Roy Moore Retires From Politics To Spend More ...  18075  7jgh6i  TheOnion   \n",
       "4  Mike Pence Disappointed In The 200,000 Husband...  16749  5pbaag  TheOnion   \n",
       "\n",
       "                                                 url  num_comments body  \\\n",
       "0  https://www.theonion.com/no-way-to-prevent-thi...          3043        \n",
       "1  https://politics.theonion.com/trump-warns-remo...          1882        \n",
       "2  https://www.theonion.com/no-way-to-prevent-thi...          1200        \n",
       "3  https://politics.theonion.com/roy-moore-retire...           126        \n",
       "4  http://www.theonion.com/article/mike-pence-dis...           332        \n",
       "\n",
       "        created  Onion?  \n",
       "0  1.509951e+09       1  \n",
       "1  1.517211e+09       1  \n",
       "2  1.518670e+09       1  \n",
       "3  1.513165e+09       1  \n",
       "4  1.485044e+09       1  "
      ]
     },
     "execution_count": 8,
     "metadata": {},
     "output_type": "execute_result"
    }
   ],
   "source": [
    "posts_onion['Onion?'] = 1\n",
    "posts_onion.head()"
   ]
  },
  {
   "cell_type": "code",
   "execution_count": 9,
   "metadata": {},
   "outputs": [],
   "source": [
    "all_posts = posts_nottheonion.append(posts_onion)"
   ]
  },
  {
   "cell_type": "code",
   "execution_count": 10,
   "metadata": {},
   "outputs": [
    {
     "data": {
      "text/plain": [
       "(1962, 9)"
      ]
     },
     "execution_count": 10,
     "metadata": {},
     "output_type": "execute_result"
    }
   ],
   "source": [
    "all_posts.shape"
   ]
  },
  {
   "cell_type": "code",
   "execution_count": 11,
   "metadata": {},
   "outputs": [
    {
     "name": "stderr",
     "output_type": "stream",
     "text": [
      "[nltk_data] Downloading package punkt to\n",
      "[nltk_data]     /Users/melaniemalinas/nltk_data...\n",
      "[nltk_data]   Package punkt is already up-to-date!\n",
      "[nltk_data] Downloading package stopwords to\n",
      "[nltk_data]     /Users/melaniemalinas/nltk_data...\n",
      "[nltk_data]   Package stopwords is already up-to-date!\n"
     ]
    },
    {
     "name": "stdout",
     "output_type": "stream",
     "text": [
      "Using the default treebank \"en_ewt\" for language \"en\".\n",
      "Would you like to download the models for: en_ewt now? (Y/n)\n",
      "y\n",
      "\n",
      "Default download directory: /Users/melaniemalinas/stanfordnlp_resources\n",
      "Hit enter to continue or type an alternate directory.\n",
      "\n",
      "\n",
      "Downloading models for: en_ewt\n",
      "Download location: /Users/melaniemalinas/stanfordnlp_resources/en_ewt_models.zip\n"
     ]
    },
    {
     "name": "stderr",
     "output_type": "stream",
     "text": [
      "100%|██████████| 235M/235M [00:24<00:00, 9.68MB/s] \n"
     ]
    },
    {
     "name": "stdout",
     "output_type": "stream",
     "text": [
      "\n",
      "Download complete.  Models saved to: /Users/melaniemalinas/stanfordnlp_resources/en_ewt_models.zip\n",
      "Extracting models file for: en_ewt\n",
      "Cleaning up...Done.\n"
     ]
    }
   ],
   "source": [
    "from nltk.tokenize import word_tokenize\n",
    "from collections import Counter\n",
    "from nltk.corpus import stopwords\n",
    "import nltk\n",
    "import stanfordnlp\n",
    "nltk.download('punkt')\n",
    "nltk.download('stopwords')\n",
    "stanfordnlp.download('en')"
   ]
  },
  {
   "cell_type": "markdown",
   "metadata": {},
   "source": [
    "Getting most common words in both Onion and nottheonion articles"
   ]
  },
  {
   "cell_type": "code",
   "execution_count": 12,
   "metadata": {},
   "outputs": [
    {
     "name": "stdout",
     "output_type": "stream",
     "text": [
      "Use device: cpu\n",
      "---\n",
      "Loading: tokenize\n",
      "With settings: \n",
      "{'model_path': '/Users/melaniemalinas/stanfordnlp_resources/en_ewt_models/en_ewt_tokenizer.pt', 'lang': 'en', 'shorthand': 'en_ewt', 'mode': 'predict'}\n",
      "---\n",
      "Loading: pos\n",
      "With settings: \n",
      "{'model_path': '/Users/melaniemalinas/stanfordnlp_resources/en_ewt_models/en_ewt_tagger.pt', 'pretrain_path': '/Users/melaniemalinas/stanfordnlp_resources/en_ewt_models/en_ewt.pretrain.pt', 'lang': 'en', 'shorthand': 'en_ewt', 'mode': 'predict'}\n",
      "Done loading processors!\n",
      "---\n"
     ]
    },
    {
     "data": {
      "text/plain": [
       "[('man', 103),\n",
       " ('says', 87),\n",
       " ('police', 55),\n",
       " ('woman', 44),\n",
       " ('Trump', 35),\n",
       " ('new', 32),\n",
       " ('people', 29),\n",
       " ('sex', 24),\n",
       " ('say', 22),\n",
       " ('white', 21),\n",
       " ('us', 21),\n",
       " ('arrested', 20),\n",
       " ('house', 19),\n",
       " ('Texas', 19),\n",
       " ('car', 19),\n",
       " ('black', 18),\n",
       " ('school', 18),\n",
       " ('stop', 18),\n",
       " ('get', 17),\n",
       " ('Florida', 17),\n",
       " ('year', 17),\n",
       " ('years', 17),\n",
       " ('tells', 16),\n",
       " ('ca', 16),\n",
       " ('gets', 16),\n",
       " ('could', 16),\n",
       " ('home', 16),\n",
       " ('make', 15),\n",
       " ('Donald', 14),\n",
       " ('China', 14)]"
      ]
     },
     "execution_count": 12,
     "metadata": {},
     "output_type": "execute_result"
    }
   ],
   "source": [
    "nottheonion_title_words = \"\"\n",
    "for title in posts_nottheonion['title']:\n",
    "    nottheonion_title_words = nottheonion_title_words + title + \". \"\n",
    "    \n",
    "nottheonion_title_words_lower = nottheonion_title_words.lower()\n",
    "    \n",
    "stf_nlp = stanfordnlp.Pipeline(processors='tokenize,mwt,pos')\n",
    "doc = stf_nlp(nottheonion_title_words_lower)\n",
    "capitalized_doc = [w.text.capitalize() if w.upos in [\"PROPN\",\"NNS\"] else \n",
    "                   w.text for sent in doc.sentences for w in sent.words]\n",
    "no_stops_nottheonion = [t for t in capitalized_doc if t not in stopwords.words('english')]\n",
    "no_punctuation = [t for t in no_stops_nottheonion if t.isalpha()]\n",
    "Counter(no_punctuation).most_common(30)"
   ]
  },
  {
   "cell_type": "code",
   "execution_count": 13,
   "metadata": {},
   "outputs": [
    {
     "name": "stdout",
     "output_type": "stream",
     "text": [
      "Use device: cpu\n",
      "---\n",
      "Loading: tokenize\n",
      "With settings: \n",
      "{'model_path': '/Users/melaniemalinas/stanfordnlp_resources/en_ewt_models/en_ewt_tokenizer.pt', 'lang': 'en', 'shorthand': 'en_ewt', 'mode': 'predict'}\n",
      "---\n",
      "Loading: pos\n",
      "With settings: \n",
      "{'model_path': '/Users/melaniemalinas/stanfordnlp_resources/en_ewt_models/en_ewt_tagger.pt', 'pretrain_path': '/Users/melaniemalinas/stanfordnlp_resources/en_ewt_models/en_ewt.pretrain.pt', 'lang': 'en', 'shorthand': 'en_ewt', 'mode': 'predict'}\n",
      "Done loading processors!\n",
      "---\n"
     ]
    },
    {
     "data": {
      "text/plain": [
       "[('man', 91),\n",
       " ('Trump', 81),\n",
       " ('new', 73),\n",
       " ('year', 39),\n",
       " ('life', 38),\n",
       " ('nation', 37),\n",
       " ('time', 35),\n",
       " ('says', 34),\n",
       " ('old', 32),\n",
       " ('way', 31),\n",
       " ('one', 31),\n",
       " ('people', 31),\n",
       " ('woman', 30),\n",
       " ('news', 30),\n",
       " ('school', 30),\n",
       " ('report', 30),\n",
       " ('get', 29),\n",
       " ('would', 28),\n",
       " ('every', 28),\n",
       " ('could', 27),\n",
       " ('Americans', 26),\n",
       " ('day', 25),\n",
       " ('like', 24),\n",
       " ('house', 23),\n",
       " ('white', 23),\n",
       " ('study', 21),\n",
       " ('family', 21),\n",
       " ('finds', 21),\n",
       " ('still', 20),\n",
       " ('make', 20)]"
      ]
     },
     "execution_count": 13,
     "metadata": {},
     "output_type": "execute_result"
    }
   ],
   "source": [
    "onion_title_words = \"\"\n",
    "for title in posts_onion['title']:\n",
    "    onion_title_words = onion_title_words + title + \". \"\n",
    "    \n",
    "onion_title_words_lower = onion_title_words.lower()\n",
    "    \n",
    "stf_nlp = stanfordnlp.Pipeline(processors='tokenize,mwt,pos')\n",
    "doc_onion = stf_nlp(onion_title_words_lower)\n",
    "capitalized_doc_onion = [w.text.capitalize() if w.upos in [\"PROPN\",\"NNS\"] else \n",
    "                   w.text for sent in doc_onion.sentences for w in sent.words]\n",
    "no_stops_onion = [t for t in capitalized_doc_onion if t not in stopwords.words('english')]\n",
    "no_punctuation_onion = [t for t in no_stops_onion if t.isalpha()]\n",
    "Counter(no_punctuation_onion).most_common(30)"
   ]
  },
  {
   "cell_type": "code",
   "execution_count": 14,
   "metadata": {},
   "outputs": [
    {
     "data": {
      "text/html": [
       "<div>\n",
       "<style scoped>\n",
       "    .dataframe tbody tr th:only-of-type {\n",
       "        vertical-align: middle;\n",
       "    }\n",
       "\n",
       "    .dataframe tbody tr th {\n",
       "        vertical-align: top;\n",
       "    }\n",
       "\n",
       "    .dataframe thead th {\n",
       "        text-align: right;\n",
       "    }\n",
       "</style>\n",
       "<table border=\"1\" class=\"dataframe\">\n",
       "  <thead>\n",
       "    <tr style=\"text-align: right;\">\n",
       "      <th></th>\n",
       "      <th>title</th>\n",
       "      <th>score</th>\n",
       "      <th>id</th>\n",
       "      <th>subreddit</th>\n",
       "      <th>url</th>\n",
       "      <th>num_comments</th>\n",
       "      <th>body</th>\n",
       "      <th>created</th>\n",
       "      <th>Onion?</th>\n",
       "    </tr>\n",
       "  </thead>\n",
       "  <tbody>\n",
       "    <tr>\n",
       "      <th>0</th>\n",
       "      <td>Louisiana eye doctor offers free eye exams for...</td>\n",
       "      <td>114314</td>\n",
       "      <td>aic7pm</td>\n",
       "      <td>nottheonion</td>\n",
       "      <td>https://www.wwltv.com/article/sports/nfl/saint...</td>\n",
       "      <td>2103</td>\n",
       "      <td></td>\n",
       "      <td>1.548120e+09</td>\n",
       "      <td>0</td>\n",
       "    </tr>\n",
       "    <tr>\n",
       "      <th>1</th>\n",
       "      <td>Man rescued from Taliban didn't believe Donald...</td>\n",
       "      <td>103950</td>\n",
       "      <td>76rjtv</td>\n",
       "      <td>nottheonion</td>\n",
       "      <td>http://www.newsweek.com/man-rescued-taliban-di...</td>\n",
       "      <td>5289</td>\n",
       "      <td></td>\n",
       "      <td>1.508199e+09</td>\n",
       "      <td>0</td>\n",
       "    </tr>\n",
       "    <tr>\n",
       "      <th>2</th>\n",
       "      <td>Nat Geo hires Jeff Goldblum to walk around, be...</td>\n",
       "      <td>100832</td>\n",
       "      <td>923ww4</td>\n",
       "      <td>nottheonion</td>\n",
       "      <td>https://news.avclub.com/nat-geo-hires-jeff-gol...</td>\n",
       "      <td>1538</td>\n",
       "      <td></td>\n",
       "      <td>1.532652e+09</td>\n",
       "      <td>0</td>\n",
       "    </tr>\n",
       "    <tr>\n",
       "      <th>3</th>\n",
       "      <td>Black security guard who stops shooter is then...</td>\n",
       "      <td>100023</td>\n",
       "      <td>9wl2d7</td>\n",
       "      <td>nottheonion</td>\n",
       "      <td>https://thehill.com/homenews/news/416255-black...</td>\n",
       "      <td>2399</td>\n",
       "      <td></td>\n",
       "      <td>1.542106e+09</td>\n",
       "      <td>0</td>\n",
       "    </tr>\n",
       "    <tr>\n",
       "      <th>4</th>\n",
       "      <td>Hunter dies after shot elephant falls on him</td>\n",
       "      <td>95385</td>\n",
       "      <td>6cgr3h</td>\n",
       "      <td>nottheonion</td>\n",
       "      <td>http://www.news24.com/SouthAfrica/News/hunter-...</td>\n",
       "      <td>1712</td>\n",
       "      <td></td>\n",
       "      <td>1.495405e+09</td>\n",
       "      <td>0</td>\n",
       "    </tr>\n",
       "  </tbody>\n",
       "</table>\n",
       "</div>"
      ],
      "text/plain": [
       "                                               title   score      id  \\\n",
       "0  Louisiana eye doctor offers free eye exams for...  114314  aic7pm   \n",
       "1  Man rescued from Taliban didn't believe Donald...  103950  76rjtv   \n",
       "2  Nat Geo hires Jeff Goldblum to walk around, be...  100832  923ww4   \n",
       "3  Black security guard who stops shooter is then...  100023  9wl2d7   \n",
       "4       Hunter dies after shot elephant falls on him   95385  6cgr3h   \n",
       "\n",
       "     subreddit                                                url  \\\n",
       "0  nottheonion  https://www.wwltv.com/article/sports/nfl/saint...   \n",
       "1  nottheonion  http://www.newsweek.com/man-rescued-taliban-di...   \n",
       "2  nottheonion  https://news.avclub.com/nat-geo-hires-jeff-gol...   \n",
       "3  nottheonion  https://thehill.com/homenews/news/416255-black...   \n",
       "4  nottheonion  http://www.news24.com/SouthAfrica/News/hunter-...   \n",
       "\n",
       "   num_comments body       created  Onion?  \n",
       "0          2103       1.548120e+09       0  \n",
       "1          5289       1.508199e+09       0  \n",
       "2          1538       1.532652e+09       0  \n",
       "3          2399       1.542106e+09       0  \n",
       "4          1712       1.495405e+09       0  "
      ]
     },
     "execution_count": 14,
     "metadata": {},
     "output_type": "execute_result"
    }
   ],
   "source": [
    "from sklearn.model_selection import train_test_split\n",
    "from sklearn.feature_extraction.text import CountVectorizer\n",
    "all_posts.head()"
   ]
  },
  {
   "cell_type": "code",
   "execution_count": 15,
   "metadata": {},
   "outputs": [],
   "source": [
    "y = all_posts['Onion?']    \n",
    "    \n",
    "X_train, X_test, y_train, y_test = train_test_split(all_posts['title'],y,test_size=0.2,random_state=42)\n",
    "count_vectorizer = CountVectorizer(stop_words='english')\n",
    "count_train = count_vectorizer.fit_transform(X_train.values)\n",
    "count_test = count_vectorizer.transform(X_test.values)"
   ]
  },
  {
   "cell_type": "code",
   "execution_count": 16,
   "metadata": {},
   "outputs": [],
   "source": [
    "from sklearn.naive_bayes import MultinomialNB\n",
    "from sklearn import metrics\n",
    "import numpy as np\n",
    "alphas = np.arange(0,1.5,0.1)"
   ]
  },
  {
   "cell_type": "code",
   "execution_count": 17,
   "metadata": {},
   "outputs": [],
   "source": [
    "def train_and_predict(alpha):\n",
    "    nb_classifier = MultinomialNB(alpha=alpha)\n",
    "    nb_classifier.fit(count_train,y_train)\n",
    "    pred = nb_classifier.predict(count_test)\n",
    "    score = metrics.accuracy_score(y_test,pred)\n",
    "    return score"
   ]
  },
  {
   "cell_type": "code",
   "execution_count": 18,
   "metadata": {},
   "outputs": [
    {
     "name": "stdout",
     "output_type": "stream",
     "text": [
      "Alpha:  0.0\n",
      "Score:  0.6972010178117048\n",
      "Alpha:  0.1\n",
      "Score:  0.7201017811704835\n",
      "Alpha:  0.2\n",
      "Score:  0.7251908396946565\n",
      "Alpha:  0.30000000000000004\n",
      "Score:  0.7455470737913485\n",
      "Alpha:  0.4\n",
      "Score:  0.7480916030534351\n",
      "Alpha:  0.5\n",
      "Score:  0.7506361323155216\n",
      "Alpha:  0.6000000000000001\n",
      "Score:  0.7480916030534351\n",
      "Alpha:  0.7000000000000001\n",
      "Score:  0.7557251908396947\n",
      "Alpha:  0.8\n",
      "Score:  0.7557251908396947\n",
      "Alpha:  0.9\n",
      "Score:  0.7557251908396947\n",
      "Alpha:  1.0\n",
      "Score:  0.7557251908396947\n",
      "Alpha:  1.1\n",
      "Score:  0.7557251908396947\n",
      "Alpha:  1.2000000000000002\n",
      "Score:  0.7506361323155216\n",
      "Alpha:  1.3\n",
      "Score:  0.7506361323155216\n",
      "Alpha:  1.4000000000000001\n",
      "Score:  0.7480916030534351\n"
     ]
    },
    {
     "name": "stderr",
     "output_type": "stream",
     "text": [
      "/Users/melaniemalinas/anaconda3/lib/python3.7/site-packages/sklearn/naive_bayes.py:485: UserWarning: alpha too small will result in numeric errors, setting alpha = 1.0e-10\n",
      "  'setting alpha = %.1e' % _ALPHA_MIN)\n"
     ]
    }
   ],
   "source": [
    "for alpha in alphas:\n",
    "    print('Alpha: ', alpha)\n",
    "    print('Score: ', train_and_predict(alpha))"
   ]
  },
  {
   "cell_type": "code",
   "execution_count": 19,
   "metadata": {},
   "outputs": [
    {
     "data": {
      "text/plain": [
       "0.7557251908396947"
      ]
     },
     "execution_count": 19,
     "metadata": {},
     "output_type": "execute_result"
    }
   ],
   "source": [
    "nb_classifier_final = MultinomialNB(alpha=0.9)\n",
    "nb_classifier_final.fit(count_train,y_train)\n",
    "pred = nb_classifier_final.predict(count_test)\n",
    "accuracy_score = metrics.accuracy_score(y_test,pred)\n",
    "accuracy_score"
   ]
  },
  {
   "cell_type": "code",
   "execution_count": 20,
   "metadata": {},
   "outputs": [
    {
     "name": "stdout",
     "output_type": "stream",
     "text": [
      "              precision    recall  f1-score   support\n",
      "\n",
      "           0       0.78      0.69      0.73       188\n",
      "           1       0.74      0.82      0.78       205\n",
      "\n",
      "    accuracy                           0.76       393\n",
      "   macro avg       0.76      0.75      0.75       393\n",
      "weighted avg       0.76      0.76      0.75       393\n",
      "\n"
     ]
    }
   ],
   "source": [
    "classification_report = metrics.classification_report(y_test,pred)\n",
    "print(classification_report)"
   ]
  },
  {
   "cell_type": "code",
   "execution_count": 41,
   "metadata": {},
   "outputs": [
    {
     "data": {
      "text/plain": [
       "array([[0.31336061, 0.68663939]])"
      ]
     },
     "execution_count": 41,
     "metadata": {},
     "output_type": "execute_result"
    }
   ],
   "source": [
    "count_evaluate = count_vectorizer.transform([\"actually\"])\n",
    "pred_proba = nb_classifier_final.predict_proba(count_evaluate)\n",
    "pred_proba"
   ]
  },
  {
   "cell_type": "code",
   "execution_count": 22,
   "metadata": {},
   "outputs": [
    {
     "data": {
      "text/html": [
       "<div>\n",
       "<style scoped>\n",
       "    .dataframe tbody tr th:only-of-type {\n",
       "        vertical-align: middle;\n",
       "    }\n",
       "\n",
       "    .dataframe tbody tr th {\n",
       "        vertical-align: top;\n",
       "    }\n",
       "\n",
       "    .dataframe thead th {\n",
       "        text-align: right;\n",
       "    }\n",
       "</style>\n",
       "<table border=\"1\" class=\"dataframe\">\n",
       "  <thead>\n",
       "    <tr style=\"text-align: right;\">\n",
       "      <th></th>\n",
       "      <th>title</th>\n",
       "      <th>score</th>\n",
       "      <th>id</th>\n",
       "      <th>subreddit</th>\n",
       "      <th>url</th>\n",
       "      <th>num_comments</th>\n",
       "      <th>body</th>\n",
       "      <th>created</th>\n",
       "      <th>Onion?</th>\n",
       "    </tr>\n",
       "  </thead>\n",
       "  <tbody>\n",
       "    <tr>\n",
       "      <th>0</th>\n",
       "      <td>Scientist Stephen Hawking has died aged 76</td>\n",
       "      <td>188179</td>\n",
       "      <td>84aebi</td>\n",
       "      <td>news</td>\n",
       "      <td>http://news.sky.com/story/scientist-stephen-ha...</td>\n",
       "      <td>6958</td>\n",
       "      <td></td>\n",
       "      <td>1.521028e+09</td>\n",
       "      <td>0</td>\n",
       "    </tr>\n",
       "    <tr>\n",
       "      <th>1</th>\n",
       "      <td>F.C.C. Announces Plan to Repeal Net Neutrality</td>\n",
       "      <td>177994</td>\n",
       "      <td>7ej943</td>\n",
       "      <td>news</td>\n",
       "      <td>https://www.nytimes.com/2017/11/21/technology/...</td>\n",
       "      <td>10909</td>\n",
       "      <td></td>\n",
       "      <td>1.511312e+09</td>\n",
       "      <td>0</td>\n",
       "    </tr>\n",
       "    <tr>\n",
       "      <th>2</th>\n",
       "      <td>Jeffrey Epstein, accused sex trafficker, dies ...</td>\n",
       "      <td>163418</td>\n",
       "      <td>cohqmr</td>\n",
       "      <td>news</td>\n",
       "      <td>https://abcnews.go.com/US/jeffrey-epstein-accu...</td>\n",
       "      <td>33641</td>\n",
       "      <td></td>\n",
       "      <td>1.565471e+09</td>\n",
       "      <td>0</td>\n",
       "    </tr>\n",
       "    <tr>\n",
       "      <th>3</th>\n",
       "      <td>Report: Stan Lee dead at 95 - Story</td>\n",
       "      <td>155790</td>\n",
       "      <td>9wgrdf</td>\n",
       "      <td>news</td>\n",
       "      <td>http://www.fox46charlotte.com/news/report-stan...</td>\n",
       "      <td>6415</td>\n",
       "      <td></td>\n",
       "      <td>1.542077e+09</td>\n",
       "      <td>0</td>\n",
       "    </tr>\n",
       "    <tr>\n",
       "      <th>4</th>\n",
       "      <td>Arizona Senator John McCain has passed away at...</td>\n",
       "      <td>154789</td>\n",
       "      <td>9abi3e</td>\n",
       "      <td>news</td>\n",
       "      <td>https://www.abc15.com/news/state/arizona-senat...</td>\n",
       "      <td>11677</td>\n",
       "      <td></td>\n",
       "      <td>1.535272e+09</td>\n",
       "      <td>0</td>\n",
       "    </tr>\n",
       "  </tbody>\n",
       "</table>\n",
       "</div>"
      ],
      "text/plain": [
       "                                               title   score      id  \\\n",
       "0         Scientist Stephen Hawking has died aged 76  188179  84aebi   \n",
       "1     F.C.C. Announces Plan to Repeal Net Neutrality  177994  7ej943   \n",
       "2  Jeffrey Epstein, accused sex trafficker, dies ...  163418  cohqmr   \n",
       "3                Report: Stan Lee dead at 95 - Story  155790  9wgrdf   \n",
       "4  Arizona Senator John McCain has passed away at...  154789  9abi3e   \n",
       "\n",
       "  subreddit                                                url  num_comments  \\\n",
       "0      news  http://news.sky.com/story/scientist-stephen-ha...          6958   \n",
       "1      news  https://www.nytimes.com/2017/11/21/technology/...         10909   \n",
       "2      news  https://abcnews.go.com/US/jeffrey-epstein-accu...         33641   \n",
       "3      news  http://www.fox46charlotte.com/news/report-stan...          6415   \n",
       "4      news  https://www.abc15.com/news/state/arizona-senat...         11677   \n",
       "\n",
       "  body       created  Onion?  \n",
       "0       1.521028e+09       0  \n",
       "1       1.511312e+09       0  \n",
       "2       1.565471e+09       0  \n",
       "3       1.542077e+09       0  \n",
       "4       1.535272e+09       0  "
      ]
     },
     "execution_count": 22,
     "metadata": {},
     "output_type": "execute_result"
    }
   ],
   "source": [
    "posts_news['Onion?'] = 0\n",
    "allposts_news_onion = posts_onion.append(posts_news)\n",
    "posts_news.head()"
   ]
  },
  {
   "cell_type": "code",
   "execution_count": 23,
   "metadata": {},
   "outputs": [],
   "source": [
    "y_2 = allposts_news_onion['Onion?']\n",
    "X_train_2, X_test_2, y_train_2, y_test_2 = train_test_split(allposts_news_onion['title'],y_2,test_size=0.2,\n",
    "                                                            random_state=42)\n",
    "count_vectorizer_2 = CountVectorizer(stop_words='english')\n",
    "count_train_2 = count_vectorizer_2.fit_transform(X_train_2.values)\n",
    "count_test_2 = count_vectorizer_2.transform(X_test_2.values)"
   ]
  },
  {
   "cell_type": "code",
   "execution_count": 24,
   "metadata": {},
   "outputs": [],
   "source": [
    "alphas_2 = np.arange(0,1.5,0.1)"
   ]
  },
  {
   "cell_type": "code",
   "execution_count": 25,
   "metadata": {},
   "outputs": [],
   "source": [
    "def train_and_predict_2(alpha):\n",
    "    nb_classifier = MultinomialNB(alpha=alpha)\n",
    "    nb_classifier.fit(count_train_2,y_train_2)\n",
    "    pred = nb_classifier.predict(count_test_2)\n",
    "    score = metrics.accuracy_score(y_test_2,pred)\n",
    "    return score"
   ]
  },
  {
   "cell_type": "code",
   "execution_count": 26,
   "metadata": {},
   "outputs": [
    {
     "name": "stdout",
     "output_type": "stream",
     "text": [
      "Alpha:  0.0\n",
      "Score:  0.795\n",
      "Alpha:  0.1\n",
      "Score:  0.82\n",
      "Alpha:  0.2\n",
      "Score:  0.8225\n",
      "Alpha:  0.30000000000000004\n",
      "Score:  0.8225\n",
      "Alpha:  0.4\n",
      "Score:  0.8325\n",
      "Alpha:  0.5\n",
      "Score:  0.835\n",
      "Alpha:  0.6000000000000001\n",
      "Score:  0.835\n",
      "Alpha:  0.7000000000000001\n",
      "Score:  0.8375\n",
      "Alpha:  0.8\n",
      "Score:  0.84\n",
      "Alpha:  0.9\n",
      "Score:  0.8425\n",
      "Alpha:  1.0\n",
      "Score:  0.84\n",
      "Alpha:  1.1\n",
      "Score:  0.84\n",
      "Alpha:  1.2000000000000002\n",
      "Score:  0.84\n",
      "Alpha:  1.3\n",
      "Score:  0.835\n",
      "Alpha:  1.4000000000000001\n",
      "Score:  0.835\n"
     ]
    },
    {
     "name": "stderr",
     "output_type": "stream",
     "text": [
      "/Users/melaniemalinas/anaconda3/lib/python3.7/site-packages/sklearn/naive_bayes.py:485: UserWarning: alpha too small will result in numeric errors, setting alpha = 1.0e-10\n",
      "  'setting alpha = %.1e' % _ALPHA_MIN)\n"
     ]
    }
   ],
   "source": [
    "for alpha in alphas_2:\n",
    "    print('Alpha: ', alpha)\n",
    "    print('Score: ', train_and_predict_2(alpha))"
   ]
  },
  {
   "cell_type": "code",
   "execution_count": 27,
   "metadata": {},
   "outputs": [
    {
     "data": {
      "text/plain": [
       "0.8425"
      ]
     },
     "execution_count": 27,
     "metadata": {},
     "output_type": "execute_result"
    }
   ],
   "source": [
    "nb_classifier_final_news = MultinomialNB(alpha=0.9)\n",
    "nb_classifier_final_news.fit(count_train_2,y_train_2)\n",
    "pred_2 = nb_classifier_final_news.predict(count_test_2)\n",
    "accuracy_score_2 = metrics.accuracy_score(y_test_2,pred_2)\n",
    "accuracy_score_2"
   ]
  },
  {
   "cell_type": "code",
   "execution_count": 28,
   "metadata": {},
   "outputs": [
    {
     "name": "stdout",
     "output_type": "stream",
     "text": [
      "              precision    recall  f1-score   support\n",
      "\n",
      "           0       0.82      0.89      0.85       206\n",
      "           1       0.87      0.79      0.83       194\n",
      "\n",
      "    accuracy                           0.84       400\n",
      "   macro avg       0.85      0.84      0.84       400\n",
      "weighted avg       0.84      0.84      0.84       400\n",
      "\n"
     ]
    }
   ],
   "source": [
    "classification_report_2 = metrics.classification_report(y_test_2,pred_2)\n",
    "print(classification_report_2)"
   ]
  },
  {
   "cell_type": "code",
   "execution_count": 29,
   "metadata": {},
   "outputs": [
    {
     "data": {
      "text/plain": [
       "array([[0.98399745, 0.01600255]])"
      ]
     },
     "execution_count": 29,
     "metadata": {},
     "output_type": "execute_result"
    }
   ],
   "source": [
    "count_evaluate_2 = count_vectorizer_2.transform([\"Skydiver dies after crashing into big rig trailer on California highway\"])\n",
    "pred_proba = nb_classifier_final_news.predict_proba(count_evaluate_2)\n",
    "pred_proba"
   ]
  },
  {
   "cell_type": "code",
   "execution_count": null,
   "metadata": {},
   "outputs": [],
   "source": []
  }
 ],
 "metadata": {
  "kernelspec": {
   "display_name": "Python 3",
   "language": "python",
   "name": "python3"
  },
  "language_info": {
   "codemirror_mode": {
    "name": "ipython",
    "version": 3
   },
   "file_extension": ".py",
   "mimetype": "text/x-python",
   "name": "python",
   "nbconvert_exporter": "python",
   "pygments_lexer": "ipython3",
   "version": "3.7.3"
  }
 },
 "nbformat": 4,
 "nbformat_minor": 2
}
